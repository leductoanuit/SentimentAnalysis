{
 "cells": [
  {
   "cell_type": "code",
   "execution_count": 1,
   "metadata": {},
   "outputs": [
    {
     "name": "stdout",
     "output_type": "stream",
     "text": [
      "Requirement already satisfied: pyvi in c:\\users\\lenovo\\anaconda3\\lib\\site-packages (0.1)\n",
      "Requirement already satisfied: sklearn-crfsuite in c:\\users\\lenovo\\anaconda3\\lib\\site-packages (from pyvi) (0.3.6)\n",
      "Requirement already satisfied: scikit-learn in c:\\users\\lenovo\\anaconda3\\lib\\site-packages (from pyvi) (0.23.1)\n",
      "Requirement already satisfied: tabulate in c:\\users\\lenovo\\anaconda3\\lib\\site-packages (from sklearn-crfsuite->pyvi) (0.8.9)\n",
      "Requirement already satisfied: six in c:\\users\\lenovo\\appdata\\roaming\\python\\python38\\site-packages (from sklearn-crfsuite->pyvi) (1.13.0)\n",
      "Requirement already satisfied: tqdm>=2.0 in c:\\users\\lenovo\\anaconda3\\lib\\site-packages (from sklearn-crfsuite->pyvi) (4.50.2)\n",
      "Requirement already satisfied: python-crfsuite>=0.8.3 in c:\\users\\lenovo\\anaconda3\\lib\\site-packages (from sklearn-crfsuite->pyvi) (0.9.7)\n",
      "Requirement already satisfied: threadpoolctl>=2.0.0 in c:\\users\\lenovo\\anaconda3\\lib\\site-packages (from scikit-learn->pyvi) (2.1.0)\n",
      "Requirement already satisfied: scipy>=0.19.1 in c:\\users\\lenovo\\anaconda3\\lib\\site-packages (from scikit-learn->pyvi) (1.4.1)\n",
      "Requirement already satisfied: joblib>=0.11 in c:\\users\\lenovo\\anaconda3\\lib\\site-packages (from scikit-learn->pyvi) (0.17.0)\n",
      "Requirement already satisfied: numpy>=1.13.3 in c:\\users\\lenovo\\anaconda3\\lib\\site-packages (from scikit-learn->pyvi) (1.19.2)\n",
      "Requirement already satisfied: mlxtend in c:\\users\\lenovo\\anaconda3\\lib\\site-packages (0.18.0)\n",
      "Requirement already satisfied: setuptools in c:\\users\\lenovo\\anaconda3\\lib\\site-packages (from mlxtend) (50.3.1.post20201107)\n",
      "Requirement already satisfied: matplotlib>=3.0.0 in c:\\users\\lenovo\\anaconda3\\lib\\site-packages (from mlxtend) (3.3.2)\n",
      "Requirement already satisfied: joblib>=0.13.2 in c:\\users\\lenovo\\anaconda3\\lib\\site-packages (from mlxtend) (0.17.0)\n",
      "Requirement already satisfied: numpy>=1.16.2 in c:\\users\\lenovo\\anaconda3\\lib\\site-packages (from mlxtend) (1.19.2)\n",
      "Requirement already satisfied: pandas>=0.24.2 in c:\\users\\lenovo\\anaconda3\\lib\\site-packages (from mlxtend) (1.1.3)\n",
      "Requirement already satisfied: scipy>=1.2.1 in c:\\users\\lenovo\\anaconda3\\lib\\site-packages (from mlxtend) (1.4.1)\n",
      "Requirement already satisfied: scikit-learn>=0.20.3 in c:\\users\\lenovo\\anaconda3\\lib\\site-packages (from mlxtend) (0.23.1)\n",
      "Requirement already satisfied: pillow>=6.2.0 in c:\\users\\lenovo\\anaconda3\\lib\\site-packages (from matplotlib>=3.0.0->mlxtend) (8.0.1)\n",
      "Requirement already satisfied: cycler>=0.10 in c:\\users\\lenovo\\anaconda3\\lib\\site-packages (from matplotlib>=3.0.0->mlxtend) (0.10.0)\n",
      "Requirement already satisfied: pyparsing!=2.0.4,!=2.1.2,!=2.1.6,>=2.0.3 in c:\\users\\lenovo\\anaconda3\\lib\\site-packages (from matplotlib>=3.0.0->mlxtend) (2.4.7)\n",
      "Requirement already satisfied: python-dateutil>=2.1 in c:\\users\\lenovo\\anaconda3\\lib\\site-packages (from matplotlib>=3.0.0->mlxtend) (2.8.1)\n",
      "Requirement already satisfied: certifi>=2020.06.20 in c:\\users\\lenovo\\anaconda3\\lib\\site-packages (from matplotlib>=3.0.0->mlxtend) (2020.6.20)\n",
      "Requirement already satisfied: kiwisolver>=1.0.1 in c:\\users\\lenovo\\anaconda3\\lib\\site-packages (from matplotlib>=3.0.0->mlxtend) (1.3.0)\n",
      "Requirement already satisfied: pytz>=2017.2 in c:\\users\\lenovo\\anaconda3\\lib\\site-packages (from pandas>=0.24.2->mlxtend) (2020.1)\n",
      "Requirement already satisfied: threadpoolctl>=2.0.0 in c:\\users\\lenovo\\anaconda3\\lib\\site-packages (from scikit-learn>=0.20.3->mlxtend) (2.1.0)\n",
      "Requirement already satisfied: six in c:\\users\\lenovo\\appdata\\roaming\\python\\python38\\site-packages (from cycler>=0.10->matplotlib>=3.0.0->mlxtend) (1.13.0)\n"
     ]
    }
   ],
   "source": [
    "!pip install pyvi\n",
    "#!pip install TensorFlow==2.2.0\n",
    "!pip install mlxtend"
   ]
  },
  {
   "cell_type": "code",
   "execution_count": 2,
   "metadata": {},
   "outputs": [],
   "source": [
    "import pandas as pd\n",
    "import seaborn as sns\n",
    "import re\n",
    "from string import digits, punctuation\n",
    "import re\n",
    "from pyvi import ViTokenizer\n",
    "from sklearn.feature_extraction.text import TfidfVectorizer\n",
    "from sklearn import model_selection, naive_bayes, svm\n",
    "from sklearn.model_selection import train_test_split\n",
    "import matplotlib.pyplot as plt\n",
    "from sklearn.metrics import accuracy_score\n",
    "\n",
    "from sklearn.metrics import classification_report,confusion_matrix\n",
    "from mlxtend.plotting import plot_confusion_matrix\n"
   ]
  },
  {
   "cell_type": "code",
   "execution_count": 3,
   "metadata": {},
   "outputs": [],
   "source": [
    "df_train=pd.read_csv('ff.csv', sep=',',encoding='utf8')\n"
   ]
  },
  {
   "cell_type": "code",
   "execution_count": 4,
   "metadata": {},
   "outputs": [
    {
     "data": {
      "text/html": [
       "<div>\n",
       "<style scoped>\n",
       "    .dataframe tbody tr th:only-of-type {\n",
       "        vertical-align: middle;\n",
       "    }\n",
       "\n",
       "    .dataframe tbody tr th {\n",
       "        vertical-align: top;\n",
       "    }\n",
       "\n",
       "    .dataframe thead th {\n",
       "        text-align: right;\n",
       "    }\n",
       "</style>\n",
       "<table border=\"1\" class=\"dataframe\">\n",
       "  <thead>\n",
       "    <tr style=\"text-align: right;\">\n",
       "      <th></th>\n",
       "      <th>CONTENT</th>\n",
       "      <th>CLASS</th>\n",
       "    </tr>\n",
       "  </thead>\n",
       "  <tbody>\n",
       "    <tr>\n",
       "      <th>0</th>\n",
       "      <td>slide giáo trình đầy đủ .</td>\n",
       "      <td>positive</td>\n",
       "    </tr>\n",
       "    <tr>\n",
       "      <th>1</th>\n",
       "      <td>nhiệt tình giảng dạy , gần gũi với sinh viên .</td>\n",
       "      <td>positive</td>\n",
       "    </tr>\n",
       "    <tr>\n",
       "      <th>2</th>\n",
       "      <td>đi học đầy đủ full điểm chuyên cần .</td>\n",
       "      <td>negative</td>\n",
       "    </tr>\n",
       "    <tr>\n",
       "      <th>3</th>\n",
       "      <td>chưa áp dụng công nghệ thông tin và các thiết ...</td>\n",
       "      <td>negative</td>\n",
       "    </tr>\n",
       "    <tr>\n",
       "      <th>4</th>\n",
       "      <td>thầy giảng bài hay , có nhiều bài tập ví dụ ng...</td>\n",
       "      <td>positive</td>\n",
       "    </tr>\n",
       "    <tr>\n",
       "      <th>...</th>\n",
       "      <td>...</td>\n",
       "      <td>...</td>\n",
       "    </tr>\n",
       "    <tr>\n",
       "      <th>14587</th>\n",
       "      <td>các slide khó hiểu , ngôn ngữ trong slide phức...</td>\n",
       "      <td>negative</td>\n",
       "    </tr>\n",
       "    <tr>\n",
       "      <th>14588</th>\n",
       "      <td>giáo viên giảng dạy có tâm huyết .</td>\n",
       "      <td>positive</td>\n",
       "    </tr>\n",
       "    <tr>\n",
       "      <th>14589</th>\n",
       "      <td>chia sẻ cho em nhiều điều hay .</td>\n",
       "      <td>positive</td>\n",
       "    </tr>\n",
       "    <tr>\n",
       "      <th>14590</th>\n",
       "      <td>em tiếp thu chậm .</td>\n",
       "      <td>negative</td>\n",
       "    </tr>\n",
       "    <tr>\n",
       "      <th>14591</th>\n",
       "      <td>em có học ở một trung tâm tiếng anh ở ngoài tr...</td>\n",
       "      <td>negative</td>\n",
       "    </tr>\n",
       "  </tbody>\n",
       "</table>\n",
       "<p>14592 rows × 2 columns</p>\n",
       "</div>"
      ],
      "text/plain": [
       "                                                 CONTENT     CLASS\n",
       "0                              slide giáo trình đầy đủ .  positive\n",
       "1         nhiệt tình giảng dạy , gần gũi với sinh viên .  positive\n",
       "2                   đi học đầy đủ full điểm chuyên cần .  negative\n",
       "3      chưa áp dụng công nghệ thông tin và các thiết ...  negative\n",
       "4      thầy giảng bài hay , có nhiều bài tập ví dụ ng...  positive\n",
       "...                                                  ...       ...\n",
       "14587  các slide khó hiểu , ngôn ngữ trong slide phức...  negative\n",
       "14588                 giáo viên giảng dạy có tâm huyết .  positive\n",
       "14589                    chia sẻ cho em nhiều điều hay .  positive\n",
       "14590                                 em tiếp thu chậm .  negative\n",
       "14591  em có học ở một trung tâm tiếng anh ở ngoài tr...  negative\n",
       "\n",
       "[14592 rows x 2 columns]"
      ]
     },
     "execution_count": 4,
     "metadata": {},
     "output_type": "execute_result"
    }
   ],
   "source": [
    "df_train"
   ]
  },
  {
   "cell_type": "code",
   "execution_count": 5,
   "metadata": {},
   "outputs": [
    {
     "name": "stdout",
     "output_type": "stream",
     "text": [
      "positive:  7233\n",
      "negative:  7359\n"
     ]
    }
   ],
   "source": [
    "print(\"positive: \",df_train[df_train['CLASS'].str.contains('positive')].shape[0])\n",
    "print(\"negative: \",df_train[df_train['CLASS'].str.contains('negative')].shape[0])\n",
    "\n"
   ]
  },
  {
   "cell_type": "code",
   "execution_count": 6,
   "metadata": {},
   "outputs": [
    {
     "name": "stderr",
     "output_type": "stream",
     "text": [
      "C:\\Users\\Lenovo\\anaconda3\\lib\\site-packages\\seaborn\\_decorators.py:36: FutureWarning: Pass the following variable as a keyword arg: x. From version 0.12, the only valid positional argument will be `data`, and passing other arguments without an explicit keyword will result in an error or misinterpretation.\n",
      "  warnings.warn(\n"
     ]
    },
    {
     "data": {
      "text/plain": [
       "<AxesSubplot:xlabel='CLASS', ylabel='count'>"
      ]
     },
     "execution_count": 6,
     "metadata": {},
     "output_type": "execute_result"
    },
    {
     "data": {
      "image/png": "[encoded data removed]",
      "text/plain": [
       "<Figure size 432x288 with 1 Axes>"
      ]
     },
     "metadata": {},
     "output_type": "display_data"
    }
   ],
   "source": [
    "df_train['CLASS']=df_train['CLASS'].replace(['negative'],0)\n",
    "df_train['CLASS']=df_train['CLASS'].replace(['positive'],1)\n",
    "sns.set_style(\"dark\")\n",
    "sns.countplot(df_train.CLASS)\n"
   ]
  },
  {
   "cell_type": "code",
   "execution_count": 7,
   "metadata": {},
   "outputs": [
    {
     "name": "stdout",
     "output_type": "stream",
     "text": [
      "Original texts :\n",
      "giảng viên đảm bảo thời gian lên lớp , tích cực trả lời câu hỏi của sinh viên , thường xuyên đặt câu hỏi cho sinh viên .\n",
      "\n",
      "After cleansed :\n",
      "giảng viên đảm bảo thời gian lên lớp   tích cực trả lời câu hỏi của sinh viên   thường xuyên đặt câu hỏi cho sinh viên\n"
     ]
    }
   ],
   "source": [
    "def standardize_data(df):\n",
    "    hl_cleansed=[]\n",
    "    for row in df:\n",
    "        row = re.sub(r\"[\\.,\\?]+$-\", \"\", row)\n",
    "        row = row.replace(\",\", \" \").replace(\".\", \" \") \\\n",
    "            .replace(\";\", \" \").replace(\"“\", \" \") \\\n",
    "            .replace(\":\", \" \").replace(\"”\", \" \") \\\n",
    "            .replace('\"', \" \").replace(\"'\", \" \") \\\n",
    "            .replace(\"!\", \" \").replace(\"?\", \" \") \\\n",
    "            .replace(\"-\", \" \").replace(\"?\", \" \")\n",
    "        row = row.strip()\n",
    "        hl_cleansed.append(row)\n",
    "    return hl_cleansed\n",
    "\n",
    "\n",
    "hl_cleansed=standardize_data(df_train['CONTENT'])\n",
    "    \n",
    "    \n",
    "# View comparison\n",
    "index=5\n",
    "print('Original texts :')\n",
    "print(df_train['CONTENT'][index])\n",
    "print('\\nAfter cleansed :')\n",
    "print(hl_cleansed[index])"
   ]
  },
  {
   "cell_type": "code",
   "execution_count": 8,
   "metadata": {},
   "outputs": [
    {
     "name": "stdout",
     "output_type": "stream",
     "text": [
      "Before tokenization :\n",
      "chưa áp dụng công nghệ thông tin và các thiết bị hỗ trợ cho việc giảng dạy\n",
      "\n",
      "After tokenization :\n",
      "['áp_dụng', 'công_nghệ', 'thông_tin', 'thiết_bị', 'hỗ_trợ', 'giảng_dạy']\n"
     ]
    }
   ],
   "source": [
    "def vi_tokenizer(row):\n",
    "    return ViTokenizer.tokenize(row)\n",
    "   \n",
    "\n",
    "def remove_stopwords(stopwords,hl_split):\n",
    "  sent = [s for s in hl_split if s not in stopwords ]\n",
    "  return sent\n",
    "\n",
    "stopwords=set(open('stopwords.txt',encoding='utf-8').read().split(' ')[:-1])\n",
    "\n",
    "#for training set\n",
    "hl_tokens = []\n",
    "for hl in hl_cleansed:\n",
    "    hl=vi_tokenizer(hl)\n",
    "    clean=remove_stopwords(stopwords,hl.split())\n",
    "    hl_tokens.append(clean)\n",
    "\n",
    "\n",
    "\n",
    "# View Comparison\n",
    "index=3\n",
    "print('Before tokenization :')\n",
    "print(hl_cleansed[index])\n",
    "print('\\nAfter tokenization :')\n",
    "print(hl_tokens[index])\n",
    "\n",
    "\n",
    "\n"
   ]
  },
  {
   "cell_type": "code",
   "execution_count": 9,
   "metadata": {},
   "outputs": [],
   "source": [
    "X_Train = [\" \".join(x) for x in hl_tokens]\n",
    "Y_Train=df_train['CLASS'].values\n",
    "\n",
    "X_Train,X_test,Y_Train,Y_test=train_test_split(X_Train,Y_Train,test_size=0.3, random_state=42)"
   ]
  },
  {
   "cell_type": "code",
   "execution_count": 27,
   "metadata": {},
   "outputs": [
    {
     "name": "stdout",
     "output_type": "stream",
     "text": [
      "  (0, 1464)\t0.3171916675206665\n",
      "  (0, 970)\t0.8984440148409166\n",
      "  (0, 574)\t0.30362443619049123\n",
      "  (1, 2723)\t0.336098178183142\n",
      "  (1, 2526)\t0.2035900591839815\n",
      "  (1, 2153)\t0.25094544415039044\n",
      "  (1, 2022)\t0.2261204529495922\n",
      "  (1, 1841)\t0.13024237183136966\n",
      "  (1, 1475)\t0.278269231770741\n",
      "  (1, 1390)\t0.28546937363531066\n",
      "  (1, 1328)\t0.32370587191907946\n",
      "  (1, 852)\t0.1809910047661079\n",
      "  (1, 798)\t0.23853048246458744\n",
      "  (1, 619)\t0.36543686570954725\n",
      "  (1, 467)\t0.32952326779433466\n",
      "  (1, 410)\t0.24233981642206326\n",
      "  (1, 89)\t0.17467483827727118\n",
      "  (1, 85)\t0.1725857010679746\n",
      "  (2, 2941)\t0.4160737073017143\n",
      "  (2, 2915)\t0.2717787918622264\n",
      "  (2, 2717)\t0.32415068804846486\n",
      "  (2, 2065)\t0.10086578860466539\n",
      "  (2, 288)\t0.2487743493779914\n",
      "  (2, 253)\t0.7135523899412632\n",
      "  (2, 102)\t0.2583131673253422\n",
      "  :\t:\n",
      "  (4373, 1082)\t0.6535724049362119\n",
      "  (4373, 574)\t0.3552563794628453\n",
      "  (4374, 2980)\t0.5907945106658955\n",
      "  (4374, 2271)\t0.41177034798740725\n",
      "  (4374, 1078)\t0.3303637984398701\n",
      "  (4374, 852)\t0.22174094908220732\n",
      "  (4374, 690)\t0.3371985484971545\n",
      "  (4374, 414)\t0.20937729387514378\n",
      "  (4374, 376)\t0.3460619442321045\n",
      "  (4374, 89)\t0.21400270400419472\n",
      "  (4375, 1804)\t0.674801658439376\n",
      "  (4375, 852)\t0.44030582976384\n",
      "  (4375, 702)\t0.41772347497219736\n",
      "  (4375, 85)\t0.4198578289142603\n",
      "  (4376, 2119)\t0.3398123279533828\n",
      "  (4376, 1841)\t0.233827101938989\n",
      "  (4376, 1282)\t0.4225646468042993\n",
      "  (4376, 1158)\t0.40740222113996577\n",
      "  (4376, 1134)\t0.356112156639173\n",
      "  (4376, 1075)\t0.5456801151043857\n",
      "  (4376, 574)\t0.24643936683200182\n",
      "  (4377, 2371)\t0.5617935522315473\n",
      "  (4377, 2193)\t0.5172090196377129\n",
      "  (4377, 707)\t0.4214453021398468\n",
      "  (4377, 703)\t0.48914894662128106\n"
     ]
    }
   ],
   "source": [
    "Tfidf_vect = TfidfVectorizer(max_features=3000)\n",
    "Tfidf_vect.fit(X_Train)\n",
    "\n",
    "Train_X_Tfidf = Tfidf_vect.transform(X_Train)\n",
    "Test_X_Tfidf = Tfidf_vect.transform(X_test)\n",
    "print(Test_X_Tfidf)\n"
   ]
  },
  {
   "cell_type": "code",
   "execution_count": 11,
   "metadata": {},
   "outputs": [
    {
     "name": "stdout",
     "output_type": "stream",
     "text": [
      "{'giảng_dạy': 703, 'chán': 244, 'cách': 389, 'truyền_đạt': 2206, 'kiến_thức': 1034, 'phù_hợp': 1659, 'lắm': 1192, 'thầy': 2065, 'đưa': 2867, 'tư_tưởng': 2340, 'tốt': 2397, 'trong': 2193, 'tiết': 2157, 'học': 891, 'giáo_viên': 679, 'lớp': 1221, 'đúng': 2857, 'giờ': 720, 'về': 2526, 'muộn': 1252, 'trao_đổi': 2185, 'bài_học': 86, 'sôi_động': 1889, 'hơi': 851, 'nhanh': 1450, 'em': 619, 'kịp': 1075, 'giảng_viên': 707, 'nhiệt_tình': 1464, 'kỹ_năng': 1085, 'giảng': 702, 'bài': 85, 'dễ': 591, 'hiểu': 789, 'vui_tính': 2470, 'cô': 414, 'dạy': 574, 'tận_tâm': 2371, 'sinh_viên': 1841, 'lý_thuyết': 1158, 'toàn': 2171, 'phần': 1681, 'trọng_tâm': 2249, 'khó': 979, 'thành_thật': 2009, 'nói': 1552, 'buổi': 83, 'đầu': 2882, 'xong': 2727, 'muốn': 1251, 'thêm': 2022, 'thứ': 2106, 'hai': 771, 'phát': 1632, 'kiểm_tra': 1040, 'còn': 403, 'tồn_động': 2402, 'quan_tâm': 1735, 'học_sinh': 898, 'nhiệt_huyết': 1461, 'làm_sao': 1141, 'có_thể': 410, 'tìm': 2302, 'thấy': 2064, 'điểm': 2816, 'hài_lòng': 827, 'quá': 1754, 'phân_biệt': 1640, 'trình_độ': 2218, 'thích': 2027, 'yếu': 2767, 'hay': 774, 'bận': 152, 'họp': 909, 'thời_gian': 2099, 'lên_lớp': 1148, 'cắt': 487, 'ngắn': 1431, 'bài_tập': 89, 'sao': 1827, 'colonsmilesmile': 358, 'trả_lời': 2237, 'câu': 399, 'hỏi': 910, 'đặt': 2900, 'đề': 2908, 'thi': 1960, 'giữa': 723, 'kỳ': 1078, 'nội_dung': 1591, 'dặn': 586, 'ko': 1045, 'vertical': 2451, 'fragmentation': 639, 'neutral': 1360, 'chiếm': 213, 'khoảng': 960, '4negative': 16, 'số': 1908, 'có_lẽ': 408, 'người': 1424, 'khác': 968, 'nhau': 1453, 'thống_nhất': 2096, 'lượng': 1175, 'thực_hành': 2119, 'cân_đối': 398, 'hòa': 844, 'đồng': 2942, 'quên': 1763, 'quân_sự': 1761, 'thường_xuyên': 2056, 'ngừng': 1443, 'giải_thích': 695, 'rõ': 1803, 'chỗ': 322, 'sai': 1823, 'quá_trình': 1757, 'làm': 1134, 'thành_viên': 2011, 'gán': 732, 'kết': 1066, 'hơn': 852, 'trách_nhiệm': 2211, 'thiết_thực': 1972, 'môn_học': 1284, 'tạo': 2357, 'cơ_hội': 445, 'trau_dồi': 2186, 'cải_thiện': 456, 'luôn_luôn': 1131, 'thất_vọng': 2062, 'mọi': 1324, 'ok': 1599, 'hết': 880, 'thật': 2070, 'môn': 1282, 'hệ': 886, 'cơ_sở': 448, 'tri_thức': 2188, 'thuộc': 2001, 'hệ_thống': 887, 'thông_tin': 2042, 'chuyên_ngành': 232, 'khoa_học': 957, 'máy_tính': 1268, 'gần': 751, 'giống': 717, 'tận_tình': 2372, 'hướng_dẫn': 860, 'chỉ_bảo': 310, 'đồng_thời': 2947, 'phòng': 1655, 'phân_bổ': 1642, 'hợp_lý': 927, 'lớp_học': 1222, 'trưa': 2231, 'khá': 967, 'nóng_bức': 1563, 'quạt': 1768, 'mát': 1260, 'máy_chiếu': 1263, 'mờ': 1341, 'cửa': 510, 'đóng': 2848, 'mở': 1343, 'trời': 2253, 'mưa': 1293, 'hoặc': 820, 'nắng': 1579, 'trình_bày': 2216, 'giọng': 715, 'nói_khó': 1556, 'nghe': 1375, 'diễn_đạt': 531, 'một_cách': 1328, 'cứng_nhắc': 506, 'hiểu_biết': 790, 'ngành': 1416, 'trường': 2233, 'gặp': 757, 'giỏi': 716, 'khoa': 956, 'đề_nghị': 2915, 'lập_trình': 1190, 'song_song': 1856, 'mức_độ': 1351, 'thấp': 2061, 'mong': 1246, 'giảm': 700, 'tải': 2359, 'bớt': 177, 'đồ_án': 2941, 'quy_định': 1746, 'đễ': 2924, 'mặc_dù': 1312, 'chúng': 274, 'tiếp_thu': 2153, 'hiệu_quả': 798, 'chi_tiết': 209, 'nóng': 1562, 'xa': 2713, 'đông': 2854, 'sửa': 1920, 'đạt': 2877, 'cao': 187, 'xin': 2723, 'cảm_ơn': 467, 'hứng_thú': 934, 'tương_đối': 2348, 'sơ_sài': 1895, 'upload': 2442, 'bữa': 184, 'module': 1245, 'đi': 2808, 'nắm': 1577, 'mình': 1273, 'chuẩn_bị': 239, 'ví_dụ': 2484, 'thực_tiễn': 2127, 'giúp': 684, 'định_hướng': 2927, 'mục_đích': 1349, 'áp_dụng': 2773, 'nghề_nghiệp': 1393, 'không_những': 996, 'bên': 104, 'ngoài': 1397, 'thực_tế': 2130, 'trải': 2238, 'rút': 1806, 'phát_triển': 1637, 'sau_này': 1829, 'phân_công': 1644, 'tuần': 2278, 'ít': 2782, 'mô_hình': 1277, 'kinh_doanh': 1023, 'thú_vị': 2045, 'vấn_đề': 2508, 'bất_kỳ': 143, 'nào': 1540, 'cung_cấp': 374, 'xứng_đáng': 2754, 'bám': 100, 'sát': 1880, 'nhà': 1475, 'vững_chắc': 2541, 'ngắn_gọn': 1432, 'xúc': 2748, 'tích': 2315, 'ôn_tập': 2789, 'ghét': 653, 'bắt': 155, 'đất': 2880, 'nói_nhỏ': 1557, 'colonsmile': 357, 'vui_vẻ': 2474, 'năng_nổ': 1571, 'dễ_tính': 597, 'học_tập': 906, 'đơn_giản': 2864, 'gọc': 759, 'tư_vấn': 2341, 'phương_pháp': 1665, 'tiếng': 2147, 'anh': 42, 'rõ_ràng': 1804, 'giải': 690, 'bổ_ích': 173, 'phát_biểu': 1633, 'chán_nản': 247, 'thông_báo': 2037, 'nghỉ': 1394, 'mới': 1337, 'nhận': 1511, 'biết': 68, 'cuối_cùng': 377, 'chúc': 273, 'sức_khỏe': 1918, 'dồi_dào': 603, 'gia_đình': 659, 'hạnh_phúc': 871, 'nhóm': 1488, 'tránh': 2213, 'bạn': 120, 'copy': 365, 'mạng': 1297, 'hoạt_động': 819, 'thuyết_trình': 1992, 'chủ_đề': 331, 'giao': 662, 'lan_man': 1090, 'lâu': 1144, 'đôi': 2851, 'khó_tính': 985, 'tài_liệu': 2283, 'tham_khảo': 1945, 'tới': 2411, 'trường_học': 2234, 'mấy': 1303, 'nhiểu': 1457, 'như_vậy': 1496, 'vừa': 2535, 'tốn': 2396, 'công_sức': 426, 'đâu': 2842, 'ngồi': 1436, 'đợi': 2968, 'bỏ': 164, 'căng': 437, 'trưởng': 2236, 'xem': 2716, 'trường_hợp': 2235, 'cô_giáo': 415, 'ý_kiến': 2791, 'hỗ_trợ': 920, 'đa_dạng': 2799, 'cụ_thể': 501, 'khiến': 952, 'chủ_động': 333, 'ngủ': 1441, 'wzjwzneutral39': 2645, 'nha_thầy': 1448, 'nặng': 1582, 'gây': 734, 'khó_khăn': 983, 'đôi_khi': 2853, 'lâp': 1143, 'trình': 2215, 'hề': 885, 'đọc': 2932, 'ấy': 2987, '6negative': 22, 'phút': 1662, 'tương_tác': 2345, 'cực_kỳ': 515, 'đầy': 2888, 'gần_gũi': 752, 'sinh_động': 1842, 'thu_hút': 1985, 'nghiêm_túc': 1380, 'thoải_mái': 1983, 'kém': 1048, 'bụi': 181, 'cần_thiết': 478, 'tổ_chức': 2403, 'dữ_liệu': 611, 'sử_dụng': 1919, 'nó': 1551, 'mức': 1350, 'cơ_bản': 443, 'lớn': 1218, 'đánh_giá': 2837, 'công_bằng': 419, 'học_sinh_động': 903, 'không_gian': 991, 'nêu': 1550, 'khả_năng': 1005, 'moodle': 1249, 'tăng': 2335, 'chất_lượng': 292, 'dạy_học': 575, 'luôn': 1130, 'lôi_cuốn': 1152, 'kể_cả': 1074, 'so_sánh': 1849, 'năm': 1566, 'positive': 1705, 'quản_lý': 1774, 'cuộc_đời': 383, 'sắp_xếp': 1904, 'làm_việc': 1142, 'yêu_đương': 2766, 'fork': 635, 'giải_thuật': 694, 'round': 1790, 'robin': 1789, 'chiến_lược': 215, 'placement': 1703, 'dành': 552, 'duyệt': 546, 'bảng': 130, 'viết': 2457, 'vài': 2476, 'chữ': 339, 'nhỏ': 1528, 'xấu': 2752, 'đội_ngũ': 2956, 'pgs': 1613, 'gs': 730, 'trở': 2254, 'một_số': 1330, 'ts': 2267, 'kinh_nghiệm': 1025, 'nghiên_cứu': 1382, 'nghĩ': 1390, 'giao_tiếp': 666, 'bằng': 159, 'riêng': 1788, 'wzjwzneutralnegativeneutral': 2671, 'lịch': 1207, 'đăng_ký': 2859, 'học_phần': 897, 'trùng': 2227, 'dẫn': 581, 'hủy': 930, 'chỉnh_sửa': 314, 'bản_thân': 127, 'bổ': 170, 'xung': 2730, 'thưa': 2051, 'hài_hước': 826, 'máy': 1262, 'trang': 2180, 'thiết_bị': 1968, 'cũ': 439, 'hư': 855, 'vui': 2466, 'nhất_là': 1504, 'tâm_huyết': 2291, 'liên_quan': 1109, 'đảm_bảo': 2879, 'nhất': 1503, 'tất_cả': 2362, 'thắc_mắc': 2073, 'giúp_đỡ': 686, 'chỉ_dẫn': 311, 'deadline': 521, 'bộ_môn': 175, 'văn': 2496, 'học_kỳ': 895, 'doubledot': 538, 'phát_âm': 1638, 'cực': 512, 'cấp': 470, 'thiếu': 1974, 'chủ_yếu': 330, 'tự': 2425, 'hướng': 859, 'nắm_bắt': 1578, 'mến': 1319, 'slide': 1847, 'nâng': 1544, 'cao_trình_độ': 193, 'cao_kiến_thức': 190, 'hình_thức': 840, 'cập_nhật': 485, 'tình_hình': 2309, 'hi_hi': 778, 'phân_chia': 1643, 'báo_cáo': 102, 'chính_xác': 265, 'hiện': 792, 'rộng': 1819, 'tập_trung': 2378, 'chuyên_sâu': 233, 'tức': 2417, 'từ_chương': 2420, 'chuyển': 236, 'chương': 284, 'nhận_xét': 1514, 'quý_báu': 1766, 'sự_cố': 1925, 'đào_tạo': 2830, 'buộc': 84, 'thay_đổi': 1957, 'ban_đầu': 54, 'cuối': 376, 'giấy': 712, 'mở_rộng': 1346, 'giới_thiệu': 719, 'nền': 1586, 'tẳng': 2382, 'blackbery': 74, 'tizen': 2139, 'nền_tảng': 1587, 'đa': 2797, 'ứng_dụng': 2998, 'phonegap': 1622, 'titanium': 2138, 'zun': 2770, 'xem_lại': 2717, 'cúp': 434, 'wzjwz3positive4': 2608, 'đầy_đủ': 2889, 'hoc': 803, 'sinh': 1840, 'lưu_tâm': 1168, 'phương_thức': 1667, 'ghi_chép': 648, 'kỹ': 1082, 'giải_quyết': 693, 'nhắc': 1519, 'ba': 51, 'lần': 1185, 'cảm_thấy': 463, 'buồn_ngủ': 81, 'chắc': 299, 'gợi_ý': 767, 'tỉ_mỉ': 2388, 'hàng': 829, 'dễ_thương': 595, 'demo': 522, 'trực_tiếp': 2265, 'chính': 261, 'nói_suông': 1559, 'minh_hoạ': 1240, 'bọn': 163, 'hiền': 784, 'chuyên_môn': 230, 'tư_duy': 2338, 'phản_biện': 1672, 'chuẩn': 238, 'video': 2453, 'sâu': 1884, 'tầm': 2363, 'nhìn': 1485, 'tương_lai': 2342, 'công_nghệ': 425, 'sôi_nổi': 1888, 'tinh': 2135, 'thân_thiện': 2020, 'giờ_giấc': 721, 'trễ': 2246, 'cập': 483, 'nhât': 1482, 'giáo_trình': 678, 'tài': 2282, 'liêu': 1113, 'neutralnegative': 1367, 'hiện_nay': 794, 'sáng_tạo': 1878, 'thành_công': 2005, 'phí': 1652, 'chu_đáo': 225, 'hiện_tại': 796, 'điều_chỉnh': 2813, 'lời': 1223, 'wzjwzneutralnegative6': 2669, 'kiên_nhẫn': 1028, 'tính': 2321, 'trực_quan': 2264, 'đoạn': 2825, 'tận_dụng': 2369, 'đỡ': 2967, 'lãng_phí': 1146, 'wzjwzneutralpositive4': 2675, 'khó_dễ': 981, 'hướng_dẫn_giải': 861, 'dường_như': 569, 'loại': 1123, 'bao_gồm': 58, 'phần_mềm': 1684, 'she': 1835, 'very': 2452, 'sociable': 1850, 'wzjwz3neutral8': 2603, 'ngày': 1418, 'tuy': 2270, 'đủ': 2970, 'mất': 1301, 'chịu': 316, 'nhắn': 1522, 'tội': 2410, 'tích_cực': 2316, 'wzjwzneutral77': 2659, 'hết_sức': 884, 'hữu_ích': 935, 'nhàm_chán': 1478, 'tiếp_tục': 2155, 'công_tác': 430, 'thay': 1953, 'dàn': 550, 'xác_định': 2742, 'thực_lực': 2121, 'đứng': 2972, 'phân_tích': 1649, 'sâu_sắc': 1886, 'chương_trình': 285, 'nhu_cầu': 1472, 'mang': 1234, 'đem': 2807, 'framework': 640, 'biện_hộ': 72, 'thế_giới': 2080, 'dần': 578, 'loại_bỏ': 1124, 'toàn_bộ': 2172, 'bạn_bè': 121, 'làm_chi': 1136, 'hứng': 932, 'oop': 1602, 'trí_tuệ': 2220, 'nhân_tạo': 1481, 'tụi': 2414, 'đối_phó': 2935, 'như_không': 1493, 'đối_phó_nổi': 2936, 'rỗi': 1818, 'khô_khan': 990, 'giảng_đường': 708, 'lâu_lâu': 1145, 'điện': 2821, 'bổ_sung': 171, 'yêu_cầu': 2763, 'quăng': 1767, 'code': 345, 'xíu': 2747, 'đời_sống': 2965, 'việc_làm': 2460, 'ý_muốn': 2792, 'khích_lệ': 978, 'mà_lại': 1253, 'tỏ': 2390, 'chê_bai': 256, 'bắt_đầu': 158, 'kết_thúc': 1072, 'trừ': 2261, 'bất_khả_kháng': 142, 'dài': 548, 'tình_cảm': 2307, 'thương': 2053, 'tôi': 2328, 'chậm': 293, 'trể': 2245, 'thế': 2079, 'mơ_hồ': 1292, 'cuốn_hút': 380, 'visual': 2455, 'basic': 61, 'thay_vì': 1955, 'nửa': 1596, 'khái_quát': 972, 'phim': 1617, 'kết_hợp': 1067, 'nhớ': 1531, 'cuộc': 381, 'bao_quát': 60, 'môn_học_sinh_viên': 1286, 'lap': 1092, 'tuy_nhiên': 2271, 'ổ_cắm': 2992, 'đáp_ứng': 2841, 'lẫn': 1186, 'nâng_cấp': 1545, 'hướng_dẫn_nhiệt_tình': 864, 'công_việc': 432, 'mớ': 1336, 'lằng_nhằng': 1196, 'tăng_cường': 2336, 'tiếp_thu_phân_loại': 2154, 'rèn_luyện': 1801, 'truyền_cảm_hứng': 2203, 'kiến': 1032, 'thưc': 2052, 'nhà_trường': 1477, 'đồng_nhất': 2946, 'rối': 1816, 'minh_họa': 1241, 'thuật_toán': 1999, 'liên_tưởng': 1111, 'khóa': 986, 'phong_phú': 1624, 'hoàn_toàn': 813, 'ổn': 2993, 'dù': 562, 'micro': 1239, 'nộp': 1594, 'tương_tự': 2346, 'một_vài': 1334, 'tình_trạng': 2312, 'dạng': 571, 'tựa': 2435, 'chuyên': 228, 'nghành': 1387, 'papers': 1608, 'phong_cách': 1623, 'hi_hi_đồ': 779, 'ngốc': 1435, 'vật_chất': 2517, 'tâm': 2290, 'nhập': 1515, 'chung': 226, 'số_lượng': 1909, 'chấm': 288, 'đề_cương': 2912, 'cặn_kẽ': 488, 'nhảm': 1500, 'mail': 1233, 'niềm': 1535, 'gánh': 733, 'việt': 2462, 'chứng_chỉ': 336, 'tương_đương': 2347, 'quốc_tế': 1780, 'khỏi': 1015, 'bao_giờ': 57, 'dựa': 614, 'vô_bổ': 2489, 'sạch': 1900, 'đọng': 2933, 'cảm_hứng': 461, 'vẻ': 2523, 'ngày_giờ': 1420, 'lệch': 1206, 'hi_vọng': 780, 'co': 344, 'ngành_nghề': 1417, 'chúng_em': 275, 'lỗi': 1214, 'cài': 384, 'vmware': 2464, 'colonsmallsmile': 356, 'điện_thoại': 2822, 'chú_ý': 272, 'giữ': 722, 'cổ_họng': 493, 'liên_hệ': 1106, 'thêm_phần': 2023, 'ngôn_ngữ': 1422, 'sql': 1861, 'cấu_hình': 473, 'kỹ_lưỡng': 1084, 'tâm_lý': 2293, 'nặng_nề': 1584, 'áp_lực': 2774, 'tậm': 2367, 'tân': 2297, 'niềm_nở': 1536, 'hồ': 915, 'trợ': 2257, 'tìm_hiểu': 2303, 'vững': 2540, 'dây': 557, 'wifi': 2550, 'ảnh_hưởng': 2982, 'đều_đặn': 2920, 'giải_đáp': 699, 'ý_nghĩa': 2793, 'đặc_biệt': 2895, 'trục_trặc': 2260, 'ngoại_khoá': 1401, 'thiết_kế': 1969, 'tiếp_cận': 2150, 'console': 363, 'win': 2551, 'form': 636, 'lẫn_lộn': 1187, 'tổng_thể': 2408, 'lối': 1212, 'hỗn_loạn': 922, 'kiễn': 1043, 'thức': 2109, 'phương_hướng': 1664, 'kết_quả': 1070, 'đam_mê': 2802, 'góp_ý_kiến': 742, 'nói_xấu': 1561, 'thôi': 2035, 'không_thể': 997, 'bù': 113, 'khắt_khe': 1012, 'chia_sẻ': 211, 'câu_chuyện': 400, 'hoàn_thiện': 810, 'môn_học_việc': 1287, 'chéo': 253, 'diễu': 532, 'thết': 2085, 'ngoại': 1400, 'liên_tục': 1112, 'teen': 1939, 'từ_ngữ': 2421, 'cám_ơn': 393, 'phức_tạp_hóa': 1701, 'nét': 1548, 'thẻ': 2078, 'lab': 1089, 'file': 630, 'tự_chủ_động': 2426, 'wzjwz136': 2561, 'khuyến_khích': 964, 'hướng_dẫn_giải_thích': 862, 'sơ_lược': 1894, 'đỗ': 2952, 'chậm_trễ': 295, 'bàn_giao': 94, 'công_cụ': 421, 'gửi': 768, 'thường': 2055, 'mạnh': 1298, 'phục_vụ': 1698, 'lướt': 1171, 'chuyên_nghiệp': 231, 'nắng_nóng': 1580, 'tập_luyện': 2375, 'quá_sức': 1755, 'thời_lượng': 2101, 'bao': 55, 'nói_chung': 1553, 'nổi': 1589, 'hằng': 878, 'củng_cố': 504, 'chắc_chắn': 300, 'tình_hình_học_tập': 2310, 'tùy': 2331, 'thời_điểm': 2103, 'dễ_dàng': 593, 'áp_đặt': 2775, 'gó': 738, 'bó': 108, 'hiện_tượng': 795, 'hầu_như_không': 877, 'thực_hiện': 2117, 'hầu_như': 876, 'chút': 277, 'wzjwz126': 2560, 'sớm': 1914, 'ngon': 1396, 'đề_tài': 2917, 'abc': 33, 'lượt': 1176, 'lẹ': 1201, 'nữ': 1597, 'tác_phong': 2288, 'đối_với': 2938, 'công_ty': 429, 'đánh': 2835, 'vận_dụng': 2515, 'chọn': 318, 'sĩ_số': 1891, 'chục': 325, 'tin_tức': 2134, 'trang_web': 2182, 'chỉ_tiêu': 313, 'vòng': 2486, 'positive4': 1707, '3h3negative': 8, '5h': 18, 'tối': 2392, 'neutralneutral': 1369, 'vui_tinh': 2469, 'chân_thành': 249, 'công_minh': 423, 'giảo': 710, 'viên': 2456, 'cách_âm': 392, 'listening': 1105, 'lưu_loát': 1167, 'tháng': 2015, 'bắt_buộc': 156, 'rớt': 1821, 'colondoublesurprise': 351, 'csharp': 372, 'java': 945, 'không_khí': 993, 'thay_thế': 1954, 'đổi_mới': 2951, 'diễn': 529, 'báo': 101, 'kỹ_càng': 1083, 'gây_sự': 735, 'xếp': 2753, 'ngẫu_nhiên': 1430, 'thích_nghi': 2029, 'lệ_thuộc': 1205, 'nghiêm_khắc': 1378, 'colonlove': 353, 'wzjwzpositive74': 2696, 'hoàn_thành': 811, 'con_người': 361, 'chênh_lệch': 258, 'khuyên': 963, 'có_ích': 412, 'tôn_trọng': 2329, 'ngoài_ra': 1399, 'tốt_nghiệp': 2398, 'giải_tích': 698, 'thật_sự': 2072, 'thái_độ': 2014, 'dàn_trải': 551, 'điểm_danh': 2818, 'cố_gắng': 491, 'wzjwzpositive57': 2688, 'hăng_hái': 849, 'wzjwzpositive7positive': 2698, 'điều_kiện': 2815, 'hầu_hết': 875, 'trầm': 2239, 'đa_số': 2801, 'chi': 206, 'buôi': 78, 'bảo_đảm': 137, 'cao_trào': 192, 'sợ': 1915, 'dot': 535, 'tận_tụy': 2373, 'scrum': 1830, 'project': 1724, 'ân_cần': 2777, 'vần': 2513, 'động_lực_học': 2959, 'hơn_nữa': 853, 'to': 2167, 'cân_bằng': 395, 'gộp': 764, 'trở_nên': 2255, 'luyện': 1127, 'thống_kê': 2095, 'tỉ_lệ': 2387, 'sao_chép': 1828, 'turnitindotcom': 2269, '3negative': 10, 'negative': 1358, 'xen_kẽ': 2720, 'kèm': 1046, 'quạt_máy_chiếu': 1770, 'hiền_lành': 786, 'nhấn_mạnh': 1502, 'đáng': 2833, 'tui': 2268, 'virus': 2454, 'hỏng': 913, 'cấu_trúc': 474, 'nhiệt_tâm': 1463, 'khách_quan': 970, 'lễ': 1204, 'cảm_giác': 460, 'khía_cạnh': 977, 'vắng': 2521, '45': 13, 'wecode': 2548, 'học_phí': 896, 'hàn_lâm': 828, 'bộ': 174, 'studio': 1863, 'phiên_bản': 1618, 'positivenegativeneutralnegative': 1718, 'mập_mờ': 1306, 'lắng_nghe': 1193, 'sẵn_sàng': 1907, 'phân_bố': 1641, 'tìm_kiếm': 2304, 'phát_hiện': 1634, 'đa_phần': 2800, 'đại_học': 2872, 'quốc_gia': 1778, 'chép': 254, 'chang': 201, 'phép': 1650, 'tự_giác': 2428, 'sửa_chữa': 1921, 'mặt': 1315, 'lắp': 1194, 'bài_làm': 87, 'sai_sót': 1825, 'chuyên_cần': 229, 'nói_chuyện': 1554, 'việt_nửa': 2463, 'đáp_án': 2840, 'lấy': 1184, 'full': 642, 'english': 624, 'ngủ_gật': 1442, 'chửi': 338, 'thiếu_sót': 1976, 'công_thức': 427, 'quyết_đoán': 1749, 'quan_trọng': 1734, 'đề_xuất': 2918, 'tỷ_lệ': 2436, 'tối_đa': 2394, 'căng_thẳng': 438, 'kênh': 1051, 'ghê': 654, 'cười': 452, 'đùa': 2855, 'mảng': 1300, 'web': 2545, 'php': 1629, 'html': 821, 'cs': 371, 'js': 946, 'nhúng': 1489, 'thể': 2086, 'mềm': 1320, 'nguyên_lý': 1410, 'ngoại_ngữ': 1402, 'đòi_hỏi': 2846, 'quả': 1772, 'thú': 2044, 'chat': 202, 'nguồn': 1415, 'chia': 210, 'chịu_khó': 317, 'nhờ': 1532, 'động_lực': 2958, 'công_bố': 420, 'loa': 1119, 'tuyệt_vời': 2276, 'cuộc_sống': 382, 'sư_phạm': 1897, 'nghiêm': 1377, 'toeic': 2168, 'thu': 1984, 'rời_rạc': 1822, 'cưỡi': 453, 'ngựa': 1445, 'hoa': 801, 'tính_chất': 2322, 'cộng': 496, 'học_trò': 905, 'nguyên': 1407, 'cứu': 508, 'gặp_mặt': 758, 'tốc_độ': 2391, 'mẫu': 1304, 'ánh_sáng': 2771, 'cá_nhân': 387, 'tiến_độ': 2146, 'nước_ngoài': 1574, 'bình_thường': 106, 'giải_lao': 691, 'tiếp': 2149, 'dẽ': 588, 'nay': 1357, 'trắc_nghiệm': 2242, 'đợt': 2969, 'da': 516, 'vô_cùng': 2490, 'truyền': 2200, 'thụ': 2104, '30': 6, '50': 17, 'lồng_ghép': 1213, 'điện_tử': 2823, 'good': 727, 'đi_sâu': 2811, 'vấn_đề_bài_học': 2509, 'thừa': 2110, 'luận': 1132, 'up': 2440, 'course': 366, 'gmail': 725, 'gọi': 760, 'chú_trọng': 270, 'lạc_bộ': 1178, 'khoá': 958, 'anh_chị': 43, 'chặt': 305, 'màn_hình': 1255, 'con': 360, 'chuột': 242, 'đơ': 2862, 'bàn_phím': 96, 'positivenegativenegative5': 1714, 'thực_sự': 2124, 'mắc': 1308, 'paste': 1609, 'thực': 2116, 'sức': 1917, 'nghe_nhìn': 1376, 'clip': 343, 'hình_ảnh': 843, 'tham_gia': 1944, 'coi': 346, 'dậy': 585, 'nạp': 1575, 'lý_do': 1157, 'kể': 1073, 'đầu_tư': 2886, 'hời_hợt': 925, 'nguyên_nhân': 1411, 'nhắm': 1521, 'học_viên': 907, 'chú_tâm': 271, 'danh_sách': 518, 'khảo_sát': 1008, 'đề_cập': 2913, 'hấp_dẫn': 874, 'mạch': 1295, 'sang': 1826, 'tí': 2313, 'kho': 955, 'vệ_sinh': 2527, 'dày': 553, 'xem_xét': 2718, 'đứt': 2973, 'lỏng': 1210, 'hư_hỏng': 857, 'ôn': 2786, 'hãy': 834, 'sáng': 1877, 'màn': 1254, 'chiếu': 216, 'ban': 53, 'rèm': 1799, 'thuận_tiện': 1997, 'dẫn_chứng': 582, 'phản_xạ': 1674, 'tự_nhiên': 2431, 'thử_thách': 2114, 'khắc': 1010, 'khe': 948, 'mục': 1347, 'hết_mình': 882, 'nhắc_nhở': 1520, 'ý_thức': 2794, 'hiện_giờ': 793, 'wzjwzpositiveneutralpositive': 2708, 'cập_nhập': 484, 'trang_bị': 2181, 'công_tâm': 431, 'kiểu': 1042, 'hoà_đồng': 805, 'giảng_giải': 705, 'quá_tải': 1759, 'wzjwzpositive3neutral': 2683, 'chữa': 341, 'đi_sát': 2810, 'hướng_dẫn_giải_đáp': 863, 'quân_đội': 1762, 'liền': 1114, 'chờ': 324, 'cải_tiến': 457, 'thờ_ơ': 2097, 'đặc_tả': 2898, 'lúc_nào': 1154, 'đăng_tải': 2860, 'mục_tiêu': 1348, 'bầu': 149, 'từ_vựng': 2423, 'vốn_sống': 2532, 'văn_phòng': 2500, 'mời': 1342, 'đổi': 2950, 'thúc': 2046, 'ngữ_pháp': 1444, 'vững_vàng': 2542, 'miệng': 1244, 'mở_cửa': 1344, 'hôm': 846, 'kêu': 1052, 'ai': 37, 'lắc_đầu': 1191, 'chẳng': 302, 'coi_trọng_điểm': 347, 'trực_tuyến': 2266, 'nhiệt': 1460, 'tra': 2176, 'gợi_mở': 766, 'y_như': 2758, 'chả': 287, 'nằm': 1581, 'rập_khuôn': 1811, 'logic': 1120, 'hết_lòng': 881, 'nhiệm_vụ': 1459, 'download': 540, 'courses': 367, 'sơ': 1892, 'wzjwzpositive37': 2681, 'thiết_thực_hành': 1973, 'wzjwzpositive73': 2695, 'lớn_tuổi': 1220, 'trình_chiếu': 2217, 'têu': 2301, 'cầu': 480, 'cung': 373, 'năng_động': 1572, 'gói': 739, 'gọn': 762, 'mệt_mỏi': 1322, 'suy_nghĩ': 1868, 'đở': 2966, 'rát': 1797, 'đồng_hồ': 2944, 'chô': 268, 'nguyên_văn': 1413, 'google': 728, 'dịch_vậy': 599, 'quy_trình': 1745, 'nát': 1543, 'xây_dựng': 2744, 'xác_suất': 2741, 'hạn': 867, 'duy_trì': 545, '5negative': 19, 'hy_vọng': 824, 'dễ_thở': 596, 'một_chút': 1327, 'đặc_thù': 2896, 'tổng_quát': 2407, 'kính': 1056, 'xem_xét_lại': 2719, 'đầu_tiên': 2885, 'chiều': 217, 'kỹ_sư': 1086, 'thảo_luận': 2060, 'góp_ý': 741, 'chiêu': 212, 'hiếm': 782, 'pro': 1723, 'sách': 1875, 'cao_siêu': 191, 'colonsadcolon': 355, 'máy_hư': 1264, 'đẹp': 2901, 'chuyên_tâm': 234, 'mới_mẻ': 1339, 'chung_chung': 227, 'bảo': 132, 'seminar': 1831, 'địa_phương': 2926, 'dùng': 565, 'cplusplus': 368, 'phần_nào': 1685, 'cảm_tính': 465, 'trò_chơi': 2223, '7h3negative': 25, '8h': 26, 'chút_xíu': 278, 'quản_trị': 1775, 'tường_tận': 2351, 'tình': 2306, 'nản': 1576, 'lạ': 1177, 'speaking': 1860, 'diễn_đàn': 530, 'sẵn_lòng': 1906, 'chon': 223, 'them': 1958, 'wzjwzpositive7': 2694, 'hào_hứng': 832, 'mong_muốn': 1247, 'thế_nào': 2083, 'đào_sâu': 2829, 'dời': 605, 'nếu_như': 1585, 'chấp_nhận': 290, 'gái': 731, 'cân_nhắc': 396, 'khớp': 1018, 'qua_loa': 1728, 'đếm': 2905, 'thô_tục': 2034, 'vô': 2488, 'văn_hoá': 2498, 'quỹ': 1781, 'tìm_tòi': 2305, 'căn_bản': 435, 'biên_soạn': 66, 'dịch': 598, 'đắp': 2893, 'dự_kiến': 612, 'phổ_thông': 1691, 'thiên': 1965, 'rẻ': 1813, 'positiveh': 1709, 'nhất_thiết': 1506, 'cao_cấp': 188, 'vượt': 2504, 'suông': 1870, 'cho_qua': 221, 'dạ': 570, 'bất_ngờ': 145, 'trẻ_trung': 2244, 'dài_dòng': 549, 'website': 2547, 'dropbox': 542, 'thư_viện': 2050, 'standford': 1862, 'phân_loại': 1646, 'văn_bản': 2497, 'naive': 1353, 'bayes': 62, 'wzjwzneutral33': 2644, 'uổng': 2447, 'laptop': 1093, 'pin': 1702, 'kéo': 1049, 'vì_thế_mà': 2482, 'trừu_tượng': 2263, 'ấn_tượng': 2985, 'tuyển_dụng': 2274, 'ý_tưởng': 2795, 'xác': 2740, 'wzjwzpositivepositiveneutral': 2712, 'khắc_phục': 1011, 'online': 1601, 'luyện_tập': 1128, 'nội_dụng': 1593, 'tiếp_xúc': 2156, 'nhập_môn': 1516, 'đối_tượng': 2937, 'nói_riêng': 1558, 'đế': 2904, 'đẹp_trai': 2902, 'ngọn': 1433, 'mỉm': 1323, 'thử': 2111, 'quy_mô': 1744, 'dự_án': 613, 'phiền': 1619, 'trách': 2210, 'tâm_sự': 2295, 'đứa': 2971, 'chém': 252, 'gió': 683, 'quá_đà': 1760, 'phục': 1697, 'cam_tâm': 186, 'kia': 1021, 'source': 1858, 'internet': 940, 'thông_tin_học_tập': 2043, 'đốc_thúc': 2934, 'tinh_thần_học_tập': 2137, 'phổ_biến': 1690, '10': 0, 'đơn_thuần': 2866, 'xử_lý': 2756, 'mong_đợi': 1248, 'mini': 1242, 'game': 644, 'âm_thanh': 2776, 'treo': 2187, 'giữa_chừng': 724, 'môn_học_phần_lớn': 1285, 'vận': 2514, 'dung': 543, 'giàng_viên': 668, 'thúc_giục': 2047, 'bỡ_ngỡ': 179, 'khác_biệt': 969, 'bài_toán': 88, 'bạnem': 122, 'trò_chuyện': 2222, 'wzjwzpositivepositive7': 2709, 'ưu_tiên_nữ_sinh': 2979, 'nam': 1354, 'thuật_ngữ': 1998, 'wzjwz223': 2576, 'projectbase': 1725, 'mò': 1274, 'thích_thú': 2030, 'môi_trường': 1281, 'người_người': 1426, 'bản_xứ': 128, 'kết_quả_thực_hành': 1071, 'mặc': 1311, 'theo_dõi': 1959, 'siêng': 1844, 'thử_hỏi': 2112, 'ồn': 2990, 'đến_nỗi': 2907, 'đồng_bộ': 2943, 'trung_bình': 2195, 'wzjwzpositive77': 2697, 'wzjwzneutral95': 2665, 'trầm_trọng': 2241, 'chính_tả': 264, 'sản_phẩm': 1902, 'hạnh': 870, 'nhạt': 1499, 'màu': 1257, 'wzjwzneutral66': 2655, 'nhằm': 1523, 'toán': 2174, 'thời': 2098, 'biểu': 70, 'gẫn': 753, 'gũi': 743, 'ngang': 1373, 'cảm': 458, 'từ_bỏ': 2419, 'android': 41, 'thiết_nghĩ': 1970, 'đậu': 2892, 'tại_sao': 2355, 'xi_măng': 2722, 'chặn': 304, 'phát_huy': 1635, 'xuất_sắc': 2735, 'nghề': 1392, 'colonsad': 354, 'wzjwz271': 2585, 'suốt': 1872, 'triệu': 2191, 'like': 1098, 'đề_nghị_trường': 2916, 'triển_khai': 2190, 'user': 2443, 'soft': 1852, 'vdotv': 2450, 'wzjwz53': 2616, 'cách_thức': 391, 'thông_cảm': 2038, 'giúp_ích': 685, 'word': 2554, 'bất_tiện': 146, 'gia_tăng': 658, 'phấn_đấu': 1679, 'mã': 1270, 'độc': 2954, 'ham': 772, 'học_hỏi': 894, 'thụ_động': 2105, 'ít_ra': 2784, 'tự_tin': 2432, 'cơn': 450, 'đau_đầu': 2805, 'kéo_dài': 1050, 'bản_chất': 124, 'phóng': 1656, 'đường': 2869, 'đời': 2964, 'wzjwzpositivenegative8': 2703, 'wzjwzpositivenegative9': 2704, 'để_dành': 2921, 'phàn_nàn': 1631, 'thậm_chí': 2068, 'tận': 2368, 'khô_cứng': 989, 'cạnh': 454, 'rèn': 1800, 'phụ_đạo': 1696, 'phân': 1639, 'wzjwzpositive53': 2687, 'em_em': 620, 'bổ_trợ': 172, 'thân_thiết': 2019, 'boss': 76, 'yêu': 2762, 'năm_học': 1567, 'thiệt_thòi': 1979, 'ỷ_lại': 2999, 'doanh_nghiệp': 533, 'wzjwzneutralneutralneutral': 2674, 'hiễu': 791, 'lương': 1170, 'vậy_trình': 2519, 'ít_nhất': 2783, 'wzjwzneutral6': 2653, 'tầng': 2366, 'wzjwzneutral7': 2657, 'chật_chội': 298, 'đắt': 2894, 'tiền': 2162, 'lau_chùi': 1095, 'hỏng_hóc': 914, 'quay': 1737, 'tệ': 2386, 'wzjwzneutralpositive8': 2676, 'bất_cứ': 141, 'silde': 1838, 'đừng': 2974, 'post': 1721, 'ghi_chú': 649, 'lưu_ý': 1169, 'mất_công_bằng': 1302, 'năng_lực': 1570, 'bước': 118, 'đồng_loạt': 2945, 'chạy': 286, 'may': 1236, 'tra_hỏi': 2177, 'xxx': 2738, 'xu_hướng': 2728, 'tá_hỏa': 2286, 'thành_ra': 2008, 'vừa_ý': 2539, 'thi_cử': 1962, 'vị_trí': 2530, '75': 23, 'cho_nên': 220, 'truyền_cảm': 2201, 'dẫn_dắt': 584, 'hệ_thống_hóa': 888, 'tiếp_theo': 2152, 'bộ_phận': 176, 'đột': 2961, 'suất': 1871, 'chủ_quan': 329, 'cho_dù': 219, 'kiểm_thử': 1039, 'test': 1940, 'xung_quanh': 2732, 'lố': 1211, 'ăn': 2796, 'lĩnh_vực': 1162, 'thông_qua': 2040, 'thiêng': 1967, 'chứng_minh': 337, 'định_lý': 2930, 'định_luật': 2929, 'kết_nối': 1068, 'lý_thuyết_giảng': 1159, 'tính_tình': 2325, 'nhai': 1449, 'colonbigsmile': 348, 'kiến_nghị': 1033, 'độ': 2953, 'chào': 243, 'có_lý_do': 407, 'nghìn': 1389, 'phú': 1660, 'rung': 1792, 'chuông': 237, 'vàng': 2477, 'thành': 2004, 'chặt_chẽ': 306, 'phạt': 1670, 'giả_sử': 689, 'giai_đoạn': 660, 'cassette': 196, 'nhập_nhằng': 1517, 'dữ': 610, '49': 15, 'vui_nhộn': 2468, 'giật': 714, 'vì_thế': 2481, 'toàn_vẹn': 2173, 'ngiêm': 1395, 'túc': 2333, 'cứng_rắn': 507, 'đề_án': 2919, 'tầm_vóc': 2365, 'khả_thi': 1007, 'fraction': 638, 'lập': 1188, 'tràn_lan': 2208, 'mật_mã': 1307, 'nên_hủy': 1549, 'vật_lý': 2518, 'kỹ_thuật': 1087, 'khó_hiểu': 982, 'phức_tạp': 1700, 'lòng_vòng': 1151, 'vì_vậy': 2483, 'chơi': 283, 'mày_mò': 1259, 'trông_đợi': 2226, 'lời_giải_đáp': 1225, 'thành_tựu': 2010, 'thử_nghiệm': 2113, 'chuẩn_xác': 240, 'cuốn': 378, 'mẹ': 1317, 'tròn': 2224, 'vuông': 2475, 'nha': 1446, 'chắp_vá': 301, 'vê': 2479, 'một_tí': 1333, 'thi_đua': 1964, 'rải_rác': 1810, 'điểu': 2820, 'kiện': 1044, 'wzjwzneutral4negative': 2648, 'ước': 2980, 'nhiễu': 1458, 'đau': 2804, 'lưng': 1165, 'tê': 2299, 'chân': 248, 'máy_móc': 1266, 'giáo_án': 680, 'có_học': 406, 'trung_tâm': 2197, 'cơ': 442, 'truy_cập': 2198, 'cáu_gắt': 394, 'giận_dỗi': 713, 'chụp': 326, 'chồng_chéo': 320, 'positivenegative': 1711, 'cảm_nhận': 462, 'tinh_thần': 2136, 'ngược_lại': 1428, 'động_não': 2960, 'suy_luận': 1867, 'thích_hợp': 2028, 'vòng_vo': 2487, 'phớt_lờ': 1692, 'đạo_đức': 2875, 'xử': 2755, 'ghi_nhớ': 651, 'hứng_khởi': 933, 'hạ': 866, 'đầu_ra': 2883, 'tương_đồng': 2350, 'nhầm': 1508, 'bắt_nhịp': 157, 'quốc_phòng': 1779, 'gián_đoạn': 675, 'hình_tượng': 842, 'ganh_đua': 645, 'nhẹ': 1524, 'kích_thích': 1054, 'chức_năng': 335, 'điểm_cao': 2817, 'rỏ': 1815, 'rộng_rãi': 1820, 'giãng': 682, 'thỉnh_thoảng': 2092, 'bối_rối': 168, 'khâu': 974, 'tranh_luận': 2184, 'chết': 309, 'wzjwzpositiveneutralneutral': 2707, 'kinh': 1022, 'nghiệm': 1384, 'tạp': 2358, 'linh_kiện': 1100, 'tưởng': 2352, 'hội_thảo': 923, 'đa_cấp': 2798, 'wzjwzneutral4': 2646, 'quý': 1765, 'kiến_trúc': 1035, 'vơi': 2501, 'mạnh_mẽ': 1299, 'song': 1853, 'nhầm_lẫn': 1509, 'dòng': 560, 'ghi': 647, 'quá_thể': 1756, 'hạn_chế': 868, 'xảy': 2751, 'áp': 2772, 'đặp': 2899, 'gò_bó': 736, 'cảm_cảm_thấy': 459, 'học_thuật': 904, 'wzjwzpositive6positive': 2693, 'đột_xuất': 2962, 'che': 204, 'dotdotdot': 536, 'song_ngữ': 1855, 'vừa_rồi': 2538, 'wzjwz44': 2612, 'đêm': 2844, 'tâm_trạng': 2296, 'tuân_thủ': 2277, 'quyền': 1751, 'ép': 2779, 'giao_lưu': 665, 'tai_nghe': 1933, 'lung_tung': 1125, 'wzjwz63': 2622, 'wzjwz3positive3': 2607, 'tuyệt': 2275, 'wzjwzpositivepositive9': 2710, 'wzjwzpositive3negative': 2682, 'wzjwz66': 2623, 'nhanh_chóng': 1451, 'hỏi_đáp': 912, 'rễ': 1814, 'tự_lập': 2430, 'sự_thực_tế': 1928, 'cài_đặt': 385, 'đề_bài_tập': 2910, 'tự_do': 2427, 'nhạc': 1498, 'chăm_chút': 280, 'nhẹ_nhàng': 1525, 'quen_biết': 1740, 'người_làm': 1425, 'dông_dài': 561, 'linh_hoạt': 1099, 'wzjwz206': 2571, 'cơ_mà': 447, 'chúng_ta': 276, 'lời_giải': 1224, 'đường_lối': 2870, 'công_nghiệp': 424, 'wzjwz141': 2562, 'dụng_cụ': 607, 'thể_hiện': 2088, 'võ': 2495, 'đạo': 2874, 'wzjwz254': 2580, 'vấn_đáp': 2507, 'mắng_chửi': 1310, 'thậm_tệ': 2069, 'luyên': 1126, 'thuyên': 1989, 'wzjwz161': 2567, 'giảng_giải_nhiệt_tình': 706, 'wzjwzneutral7neutral': 2661, 'não': 1546, 'xử_lý_sự': 2757, 'buối': 79, 'presentation': 1722, 'giơ': 687, 'tay': 1936, 'kiển': 1041, 'mẹo': 1318, '8h30': 27, '12h': 3, 'đầu_vào': 2887, 'liên_lạc': 1108, 'yêu_cầu_môn_học': 2765, 'tương_đối_đạt': 2349, 'phân_tán': 1648, 'wzjwz275': 2586, 'tý': 2334, 'in': 938, 'đĩa': 2861, 'dvd': 547, 'lẽ': 1202, 'đòi': 2845, 'quyền_lợi': 1752, 'ngoài_lề': 1398, 'chính_trị': 263, 'hồn': 918, 'dẫn_chứng_thực_tế': 583, 'hiêu': 781, 'wzjwzneutral9neutral': 2667, 'bày': 99, 'lau': 1094, 'dọn': 601, 'bàn': 93, 'ghế': 655, 'wzjwzpositive93': 2700, 'wzjwz47': 2614, 'sống': 1913, 'qua_mặt': 1729, 'đạo_đức_tính': 2876, 'nhân_bản': 1480, 'tai': 1932, 'mông_lung': 1289, 'trợ_giảng': 2259, 'dí_dỏm': 559, 'gấp_gáp': 749, 'gắn': 754, 'máy_lạnh': 1265, 'dễ_chịu': 592, 'gia_trưởng': 657, 'thế_hệ': 2081, 'wzjwz240': 2578, 'số_một': 1910, '7h30': 24, '9h45': 31, '10h15': 2, 'căn_chỉnh': 436, 'vướng_mắc': 2503, 'kiểm_chứng': 1036, 'có_chăng': 404, 'dừng': 609, 'cấp_độ_sinh_viên': 472, '95': 29, 'nội_dung_dịch': 1592, 'ngoại_văn': 1403, 'nghĩa': 1391, 'khơi': 1003, 'thông': 2036, 'update': 2441, 'thỏa_đáng': 2094, 'xét': 2746, 'bản': 123, 'nhăn': 1491, 'youtube': 2759, 'cờ_tướng': 498, 'tiềm': 2160, 'súc_tích': 1890, 'phụ_thuộc': 1694, 'kinh_tế': 1026, 'sữa': 1924, 'embeded': 622, 'system': 1873, 'mới_lạ': 1338, 'uit': 2438, 'career': 194, 'tí_xíu': 2314, 'lắp_đặt': 1195, 'cửa_sổ': 511, 'tập': 2374, 'thói_quen': 2032, 'patin': 1610, 'wzjwz216': 2574, 'vắng_mặt': 2522, 'lơ_là': 1164, 'thí_nghiệm': 2026, 'windows': 2552, 'phone': 1621, 'giả': 688, 'tình_huống': 2308, 'bàn_luận': 95, 'nguyện_vọng': 1414, 'ơi': 2975, 'dùm': 564, 'elab': 618, 'lề': 1203, 'bục': 180, 'vẽ': 2524, 'sơ_đồ': 1896, 'chi_chít': 207, 'phía': 1653, 'nóng_nực': 1564, 'mùa': 1290, 'hè': 835, 'thầy_giáo': 2066, 'wzjwzpositive94': 2701, 'yếu_kém': 2768, 'linh_động': 1102, 'cẩn_thận': 481, 'tên': 2300, 'hài': 825, 'vận_động': 2516, 'đi_lại': 2809, 'nói_gì': 1555, 'ngỡ': 1438, 'lịch_sử': 1208, 'linh_tinh': 1101, 'ida': 936, '64': 21, 'bit': 65, 'thực_thi': 2125, '3positive': 11, 'thanh': 1949, 'hiện_đại': 797, 'giảnh': 709, 'năng_lượng': 1569, 'khó_chịu': 980, 'coloncontemn': 350, 'wzjwz3positiveneutral': 2609, 'bây_giờ': 103, 'phần_cứng': 1682, 'yếu_tố': 2769, 'wzjwz217': 2575, 'bất_cập': 140, 'đuối': 2826, 'pha_trò_cười': 1616, 'tiện': 2166, 'thẳng': 2076, 'tiết_kiệm': 2158, 'kiểm_soát': 1038, 'team': 1938, 'max': 1235, 'yêu_cầu_là': 2764, 'cấm': 469, 'đuổi': 2827, 'xuống': 2736, 'hợp_ý': 929, 'khuôn_mẫu': 966, 'daa': 517, 'lửa': 1229, 'neutral5': 1362, 'ràng_buộc': 1794, 'khai_thác': 947, 'phong_độ': 1627, 'ủng_hộ': 2996, 'hoàn_chỉnh': 808, 'ebook': 617, 'kết_nối_mạng': 1069, 'hạn_hẹp': 869, 'đan_xen': 2803, 'để_ý': 2923, 'không_kích_thích': 994, 'tiêu_chí': 2140, 'vấn': 2506, '60': 20, 'nghiệp_vụ': 1385, 'yên_tĩnh': 2761, 'lòng': 1150, 'positivenegativenegative8': 1715, 'sâu_rộng': 1885, 'lời_nói': 1226, 'trẻ': 2243, 'ôn_luyện': 2787, 'giải_pháp': 692, 'tỉnh': 2389, 'thiếu_hụt': 1975, 'cởi_mở': 499, 'phê_bình': 1651, 'phần_lớn': 1683, 'vai_trò': 2449, 'lỗi_thời': 1215, 'kit': 1027, 'ổn_định': 2994, 'hồi_đáp': 917, 'reply': 1786, 'đồng_ý': 2949, 'dở': 606, 'thô': 2033, 'xa_rời': 2714, 'lên_lớp_học': 1149, 'tuổi': 2280, 'nhiệt_thành': 1462, 'phương_án': 1669, 'topic': 2170, 'quy_hoạch': 1743, 'động': 2957, 'thỏa': 2093, 'leo': 1096, 'cây': 402, 'mệt': 1321, 'quen': 1739, 'dể': 590, 'quan_điểm': 1736, 'kiếm': 1031, 'phấn': 1676, 'khổ': 1017, 'mạch_lạc': 1296, 'làm_quen': 1140, 'thể_dục': 2087, 'thật_ra': 2071, 'mặc_định': 1314, 'tính_toán': 2324, 'nho_nhỏ': 1471, 'đươc': 2868, 'than_phiền': 1947, 'bao_nhiêu': 59, 'hình_dung': 837, 'chủ': 327, 'siêu': 1845, 'giáo': 676, 'viện': 2461, 'đá': 2831, 'bóng': 110, 'ký_tự': 1059, 'câu_lệnh': 401, 'biến': 67, '8negative': 28, 'cận': 482, 'khúc_mắc': 1002, 'đóng_góp': 2849, 'êm': 2781, 'thao_thao': 1951, 'bất_tuyệt': 147, 'cần_cập': 476, 'thuận_lợi': 1996, 'mãi': 1271, 'hình_như': 838, 'phát_sinh': 1636, 'mô_phỏng': 1279, 'training': 2179, 'trống': 2251, 'di_động': 526, 'lịch_sự': 1209, 'cơ_chế': 444, 'nhất_định': 1507, 'xinh': 2725, 'tóm': 2326, 'positivenegativeneutralpositive': 1720, 'giám_sát': 674, 'cảm_xúc': 466, 'dãy': 558, 'dơ': 567, 'tánh': 2289, 'bụi_bặm': 182, 'tác_dụng': 2287, 'hoang_mang': 802, 'có_hạn': 405, 'xúc_phạm': 2749, 'đảm': 2878, 'bào': 97, 'thuyết_phục': 1991, 'nóng_tính': 1565, 'nguyên_tắc': 1412, 'colonhihi': 352, 'gom': 726, 'công_trình': 428, 'kịp_thời': 1076, 'sát_sinh_viên': 1882, 'sắp': 1903, 'gắt': 756, 'dần_dần': 579, 'hăng_say': 850, 'cũng_nên': 441, 'soạn': 1859, 'mỏi': 1325, 'pdf': 1612, 'photo': 1628, 'cắm': 486, 'ngôn_từ': 1423, 'chất': 291, 'dám': 554, 'buồn': 80, 'tổng_hợp': 2404, 'con_số': 362, 'chị': 315, 'họ': 890, 'tồi_tệ': 2401, 'grammar': 729, 'xã_hội': 2745, 'quyết': 1748, 'phụ': 1693, 'nhanh_nhẹn': 1452, 'phong_thái': 1625, 'vở': 2533, 'ngại': 1429, 'tiến_bộ': 2144, 'đăng': 2858, 'trung': 2194, 'mô_tả': 1280, 'sót': 1887, 'cdio': 198, 'quà': 1753, 'giới_hạn': 718, 'giao_diện': 663, 'chuỗi': 241, 'hơp': 854, 'la': 1088, 'tập_trung_học': 2379, 'tiếp_nhận': 2151, 'thày': 2012, 'phân_phối': 1647, 'dạt': 573, 'tân_tâm': 2298, 'check': 205, 'mua': 1250, 'ram': 1782, 'chê': 255, 'truyền_thống': 2204, 'nà': 1539, 'hoài': 806, 'lưu': 1166, 'thà': 2003, 'khối_lượng': 1016, 'liên_kết': 1107, 'cố': 489, 'lúng_túng': 1155, 'sự_dụng': 1926, 'hu_hu': 823, 'thông_minh': 2039, 'ồn_ào': 2991, 'đánh_đố': 2838, 'cú_pháp': 433, 'cô_đọng': 417, 'tin': 2133, 'định_nghĩa': 2931, 'cách_nhiệt_tình': 390, 'ngán': 1421, 'chăm_chỉ': 281, 'học_hành': 893, 'chổ': 321, 'quan_sát': 1733, 'xưng_hô': 2750, 'mày': 1258, 'đới': 2963, 'một_ít': 1335, 'mượn': 1294, 'cũ_kỹ': 440, 'công': 418, 'hành': 831, 'ôn_thi': 2788, 'tạm': 2356, 'chót': 267, 'nhìn_chung': 1486, 'xuất_hiện': 2734, 'màn_hình_chiếu': 1256, 'thân': 2017, 'trở_thành': 2256, 'chăm_lo': 282, 'nhiệt_tình_sử_dụng': 1466, 'bất': 138, 'vốn': 2531, 'positivenegativeneutral3': 1717, 'lặp': 1197, 'rối_rắm': 1817, 'am_hiểu': 39, 'nhiêu': 1456, 'phản_hồi': 1673, 'tham_quan': 1946, 'tụy': 2415, 'đi_đôi': 2812, 'hát': 833, 'phương_diện': 1663, 'neutralnegativenegative': 1368, 'thự': 2115, 'điều_hành': 2814, 'name': 1355, 'lo': 1116, 'truyền_tải': 2205, 'phù': 1658, 'hiệu_suất': 800, 'học_sinh_học_tập': 901, 'miền': 1243, 'thao_tác': 1952, 'oracle': 1603, 'server': 1832, 'he': 776, 'đại_gia': 2871, 'submit': 1865, 'facebook': 627, 'linux': 1103, 'lủng_củng': 1228, 'vâng': 2478, 'nhiệt_tình_thương': 1467, 'phản_ánh': 1675, 'vắn_tắt': 2520, 'tế': 2383, 'giáo_khoa': 677, 'forum': 637, 'lo_lắng': 1117, 'lười_biếng': 1173, 'hẳn': 879, 'odoo': 1598, 'đành': 2828, 'chọn_lọc': 319, 'dù_sao': 563, 'hợp_tác': 928, '15': 4, 'positive5': 1708, 'duy_nhất': 544, 'khoảng_cách': 961, 'tích_hợp': 2317, 'thực_ra': 2123, 'nhìu': 1487, 'nhuần_nhuyễn': 1474, 'nhận_thức': 1513, 'bức_xúc': 183, 'âu': 2778, 'không_thể_nào': 1000, 'ngày_càng': 1419, 'hợp': 926, 'chẳng_hạn': 303, 'biện_pháp': 73, 'đáp': 2839, 'đồng_tình': 2948, 'bước_đi': 119, 'nhất_quán': 1505, 'chế_độ': 308, 'trọng': 2248, 'khinh': 950, 'thi_công': 1961, 'thình': 2025, 'wzjwzpositive5negative': 2690, 'tuần_tự': 2279, 'bảng_hiệu_quả': 131, 'bởi_vì': 178, 'wzjwz145': 2563, 'wzjwzpositive45': 2684, 'mô_hình_cụ_thể': 1278, 'thời_hạn': 2100, 'wzjwz7negative': 2629, 'tùm_lum': 2330, 'wzjwz7neutral': 2630, 'wzjwz7positive': 2631, 'giản': 701, 'thực_hiện_tại': 2118, 'quạt_máy': 1769, 'easy': 616, 'thâm': 2016, 'thúy': 2049, 'thương_mại': 2054, 'rôi': 1802, 'wzjwzpositive59': 2689, 'đề_bài': 2909, 'đáng_giá': 2834, 'wzjwzneutral97': 2666, 'may_mắn': 1237, 'như_vầy': 1495, 'giao_dịch': 664, 'wzjwz83': 2632, 'tương_thích': 2344, 'lựa_chọn': 1230, 'directx': 528, 'gấp_rút': 750, 'sẵn': 1905, 'đặc_trưng': 2897, 'wzjwzneutral74': 2658, 'sợ_hãi': 1916, 'nghung': 1386, 'ưa_thích': 2976, 'wzjwz39': 2596, 'socket': 1851, 'wzjwz45': 2613, 'wzjwzneutral53': 2649, 'ô_nhiễm': 2785, 'nổi_bật': 1590, 'wzjwzneutral54': 2650, 'chuyến': 235, 'xin_lỗi': 2724, 'sự_thật': 1927, 'đôi_chút': 2852, 'hoạt_bát': 817, 'ngợp': 1440, 'chính_đáng': 266, 'wzjwz98': 2642, 'wzjwz99': 2643, 'vui_tươi': 2473, 'chính_thức': 262, 'mặt_khác': 1316, 'lý_thuyết_lý_thuyết': 1160, 'rườm_rà': 1808, 'dạnh': 572, 'hội_trường': 924, 'giải_tán': 697, 'truyên': 2199, 'note': 1538, 'kỳ_thực_hành': 1080, 'vô_tình': 2492, 'hoạt': 816, 'thực_tập': 2129, 'phiền_phức': 1620, 'bút_lông': 115, 'xài': 2739, 'khô': 988, 'hết_mực': 883, 'bút': 114, 'chay': 203, 'tức_là': 2418, 'phầm': 1680, 'thang': 1948, 'quạt_trần': 1771, 'không_thể_hình_dung': 999, 'thế_thì': 2084, 'ké': 1047, 'down': 539, 'khiếu': 953, 'ứng': 2997, 'trôi': 2225, 'vui_lòng': 2467, 'tầm_mắt': 2364, 'tuy_vậy': 2273, 'dứt_khoát': 608, 'phỏng': 1687, 'phích': 1654, 'tiềm_ẩn': 2161, 'ngọng': 1434, 'thẳng_thắn': 2077, 'wzjwzneutral64': 2654, 'kế_hoạch': 1064, 'thành_lập': 2006, 'nhật': 1518, 'gạch': 746, 'bó_tay': 109, 'nguyên_hình_thức': 1409, 'trừng_phạt': 2262, 'buồn_tẻ': 82, 'wzjwz189': 2570, 'nhấn': 1501, 'chỉ_thực_hành': 312, 'top': 2169, 'wzjwzpositive': 2680, 'wzjwz183': 2569, 'một_số_đề': 1332, 'vô_lý': 2491, 'loàng': 1122, 'ngoằng': 1404, 'vỉên': 2529, 'doc': 534, 'giàu': 671, 'đc': 2806, 'lười_nhác': 1174, 'bản_chất_vấn_đề': 125, 'famous': 628, 'j2e': 944, 'web_khoa': 2546, 'thu_lượm': 1986, 'nước': 1573, 'neutraldot5': 1365, 'tràn_đầy': 2209, 'phân_hoá': 1645, 'tình_hình_học_viên': 2311, 'thấu_hiểu': 2063, 't_t': 1929, 'gò_ép': 737, 'tiền_lương': 2164, 'khái_niệm': 971, 'toán_học': 2175, 'bảo_mật': 133, 'từ_tốn': 2422, 'lỳ': 1231, 'sáo_rỗng': 1879, 'assembly': 45, 'tham': 1943, 'tóm_tắt': 2327, 'heapsort': 777, 'xuyên': 2733, 'tiến': 2143, 'gắn_kết': 755, 'cho_xong': 222, 'thảo': 2059, 'mai': 1232, 'kí_hiệu': 1053, 'nhè': 1484, 'quan_liêu': 1732, 'bao_cấp': 56, 'thuyết_trình_báo_cáo': 1993, 'một_mình': 1329, 'hình_thức_hóa': 841, 'cảnh_cáo': 468, 'hao': 773, 'wzjwzpositiveneutral': 2705, 'đề_mục': 2914, 'đẩy_mạnh': 2891, 'level': 1097, 'quốc': 1777, 'hiều': 787, 'bề_ngoài': 162, 'hóm_hỉnh': 845, 'cảm_tình': 464, 'chán_ngán': 246, 'kỷ_luật': 1081, 'hệ_thống_thiết_bị': 889, 'nối': 1588, 'hổi': 919, 'đầu_sách': 2884, 'phúc_khảo': 1661, 'dọng': 602, 'hackerrank': 770, 'cụ_thể_nào': 503, 'biết_điều': 69, 'tế_nhị': 2384, 'không_vận_dụng': 1001, 'khí': 975, 'cỡ': 500, 'dân_lập': 556, 'học_sinh_phần_nào': 902, 'positivenegativeneutralneutral': 1719, 'lười': 1172, 'wzjwzpositive69': 2692, 'wzjwz207': 2572, 'ta': 1930, 'vừa_phải': 2537, 'độc_đoán': 2955, 'đối_xử': 2939, 'phản': 1671, 'xáo_trộn': 2743, 'wzjwz3neutral9': 2604, 'show': 1836, 'giây': 681, 'wireshark': 2553, 'sơ_bộ': 1893, 'wzjwz59': 2618, 'tổng_điểm': 2409, 'trò': 2221, 'nợ': 1595, 'kế_tiếp': 1065, 'itnegativenegative6doteneutralpositive': 943, 'dấu_chấm': 577, 'add': 34, 'site': 1843, 'đói': 2847, 'ghi_nhận': 650, 'giành': 669, 'kế': 1063, 'ngu': 1405, 'email': 621, 'vì_sao': 2480, 'trigger': 2189, 'bồ': 169, 'sung': 1866, 'tà_la': 2281, 'cầm': 475, 'tờ': 2413, 'xinh_đẹp': 2726, 'bi': 63, 'di_chuyển': 525, 'cần_mẫn': 477, 'cực_hình': 513, 'tra_tấn': 2178, 'wzjwz31': 2590, 'có_mặt': 409, 'tối_thiểu': 2393, 'tùy_chọn': 2332, 'wzjwzneutralneutral4': 2673, 'bohm': 75, 'neutral983': 1364, 'skype': 1846, 'reo': 1784, 'bản_ngữ': 126, 'nán': 1541, 'đùa_giỡn': 2856, 'bỏ_qua': 166, 'writing': 2555, 'cứng': 505, 'wzjwz248': 2579, 'ớn': 2995, 'tâm_lý_học_sinh': 2294, 'vui_tính_hướng_dẫn': 2472, 'thoáng': 1980, 'wzjwz3neutral3': 2599, 'wzjwz3neutral4': 2600, 'crack': 370, 'textbook': 1942, 'chú_thích': 269, 'năng': 1568, 'ngưỡng_mộ': 1427, 'trúng': 2228, '3hneutral5': 9, '9negative': 32, 'hoàn': 807, 'positivenegative48': 1712, 'tâm_huyết_bài': 2292, 'lộn_xộn': 1217, 'sort': 1857, 'dồn': 604, 'nghiêm_trọng': 1379, 'hồi_hộp': 916, 'lo_sợ': 1118, '100': 1, 'mở_mang': 1345, 'nhã': 1483, 'khủng': 1020, 'lặp_lại': 1198, 'dotnet': 537, 'positivenegativenegative3': 1713, 'giá': 672, 'tại_chỗ': 2354, 'share': 1834, 'va': 2448, 'nặng_lời': 1583, 'funny': 643, 'chứa': 334, 'wzjwz3neutralpositive': 2606, 'ưu_tiên': 2978, 'cam_kết': 185, 'thiện_cảm': 1977, 'trợ_giúp': 2258, 'neutral9': 1363, 'đóng_góp_phần_lớn': 2850, 'smartphone': 1848, 'nhận_diện': 1512, 'chữ_viết': 340, 'engine': 623, 'day': 519, 'nhác': 1479, 'nhở': 1533, 'hàng_đầu': 830, 'tập_trung_thực_hành': 2380, 'ký': 1058, 'thuyết': 1990, 'ràng': 1793, 'xuống_cấp': 2737, 'lài': 1133, 'wzjwz3negative': 2597, 'điển_hình': 2819, 'wzjwz150': 2565, 'thuân': 1994, 'góp_phần': 740, 'chi_phí': 208, 'tổng_hợp_ý': 2405, 'nén': 1547, 'mediafire': 1238, 'kẹt': 1061, 'xe': 2715, 'bài_tập_kết_hợp_lý_thuyết': 92, 'trống_không': 2252, 'quận': 1776, 'văn_hóa': 2499, 'thanh_niên': 1950, 'quick': 1741, 'hấp': 873, 'dẩn': 580, 'đẻ': 2903, 'nang': 1356, 'agile': 36, 'gọi_là': 761, 'cụ_thể_hóa': 502, 'gọn_gàng': 763, 'kiên_trì': 1030, 'wzjwz267': 2583, 'neutral3h3negative': 1361, 'thiết_sót': 1971, 'thuc': 1988, 'tiễn': 2165, 'nhũng': 1492, 'vote': 2465, 'wzjwz74': 2627, 'thích_ứng': 2031, 'quá_trình_báo_cáo': 1758, 'thay_vì_vậy': 1956, 'liên_tiếp': 1110, 'ùn': 2790, 'vạ': 2505, 'gạo': 747, 'lạc_lõng': 1180, 'wzjwz40': 2610, 'wzjwz41': 2611, 'dế': 589, 'viết_tay': 2458, 'dbms': 520, 'hình_thành': 839, 'lý': 1156, 'wzjwzpositive47': 2685, 'bí_hiểm_em': 107, 'thứ_tự': 2108, 'trước_hết': 2232, 'khuôn_khổ': 965, 'assignments': 46, 'given': 667, 'at': 47, 'home': 804, 'are': 44, 'dúng': 566, 'định_kỳ': 2928, 'nhẩm': 1510, 'khâm_phục': 973, 'wzjwzneutralnegativepositive': 2672, 'tấm': 2360, 'cau': 197, 'tín_chỉ': 2318, 'hỗ_trợ_giảng': 921, 'tổng_quan': 2406, 'thế_là': 2082, 'thiên_vị': 1966, 'giành_giật': 670, 'tiếc': 2142, 'ví_von': 2485, 'máy_nổ': 1267, 'tan': 1935, 'tài_năng': 2284, 'vừa_mới': 2536, 'rút_gọn': 1807, 'bảo_thủ': 135, 'tư': 2337, 'nhiên': 1454, 'tiêu_cực': 2141, 'wzjwz50': 2615, 'nhiệt_tình_cảm_ơn': 1465, 'từ_vựng_học': 2424, 'bình': 105, 'có_điều': 413, 'thưởng': 2057, 'chèn': 251, 'tư_liệu': 2339, 'tương_lai_tạo': 2343, 'quả_thật': 1773, 'tượng_trưng': 2353, 'thuộc_lòng': 2002, 'wzjwzpositive4positive': 2686, '47': 14, 'vẽ_vậy': 2525, 'chấn_chỉnh': 289, 'bất_chợt': 139, 'đến_nơi': 2906, 'nguyên_bản': 1408, 'kiên_quyết': 1029, 'kỳ_quặc': 1079, 'cư_xử': 451, 'wzjwz8neutral': 2638, 'wzjwz118': 2559, 'quan_hệ': 1731, 'thông_thường': 2041, 'sưc': 1898, 'hoàn_hảo': 809, 'hỏi_vặn_vẹo': 911, 'netbean': 1359, 'học_sinh_học_lực': 900, 'khen': 949, 'tester': 1941, 'bậc': 151, 'cao_học': 189, 'tận_lực': 2370, 'đám': 2832, 'thực_tại': 2128, 'nhiệt_tình_yêu': 1470, 'dặn_dò': 587, 'kiểm_duyệt': 1037, 'quí': 1764, 'case': 195, 'study': 1864, 'wzjwzneutralnegative7': 2670, 'đánh_bài': 2836, 'tự_vệ': 2433, 'htpositive': 822, 'wzjwzneutral78': 2660, 'trọn_vẹn': 2247, '9dot5': 30, 'hưng': 858, 'comment': 359, 'giấc': 711, 'mơ': 1291, 'wzjwz36': 2593, 'wzjwz37': 2594, 'chật': 297, 'cho_cùng': 218, 'phụ_trách': 1695, 'tính_cách': 2323, 'sai_lầm': 1824, 'ắt_hẳn': 2989, 'phấn_khích': 1677, 'wzjwzpositiveneutral3': 2706, 'đơn': 2863, 'quan': 1730, 'dạy_học_phần': 576, 'bài_tập_kết_hợp': 91, 'hoạt_náo': 818, 'nghiên': 1381, 'sửa_đổi': 1923, 'uyên_bác': 2445, 'trâu': 2214, 'wzjwzpositivepositivenegative': 2711, 'trọng_điểm': 2250, 'khoá_biểu': 959, 'tự_ý': 2434, 'máy_vi_tính': 1269, 'altera': 38, 'hiệu_quả_thực_hành': 799, 'nhiệt_tình_tiết': 1469, 'trăc': 2229, 'vui_tính_cách': 2471, 'cuốn_chiếu': 379, 'lạc_đề': 1181, 'wzjwz5neutral': 2619, 'wzjwz5positive': 2620, 'wzjwzneutralnegative4': 2668, 'tắt': 2381, 'phong_trào': 1626, 'xen_lẫn': 2721, 'tiến_hành': 2145, 'gỡ_rối': 765, 'vướng_bận': 2502, 'xung_phần': 2731, 'tốt_đẹp': 2400, 'tự_khắc': 2429, 'ép_buộc': 2780, 'cổ_hủ': 494, 'overview': 1607, 'wzjwz8negative': 2637, 'hiếu_thắng': 783, 'wzjwzneutral5positive': 2652, 'rắt': 1812, 'bóng_chuyền': 111, 'tập_thể_lực': 2377, 'thách_đố': 2013, 'kính_trọng': 1057, 'nhiêt': 1455, 'cố_định': 492, 'hứa': 931, 'wzjwz34': 2591, 'pha': 1614, 'tấn_công': 2361, 'wzjwz151': 2566, 'như_thế': 1494, 'nguy_cơ': 1406, 'nhu_cầu_môn_học': 1473, 'hình': 836, 'bảo_trì': 136, 'hư_chuột': 856, 'wzjwz6': 2621, 'trầm_bổng': 2240, 'kịp_thời_gian': 1077, 'ậm_ừ': 2988, 'aep': 35, 'không_hiểu': 992, 'liệu': 1115, 'cổng': 495, 'love': 1121, 'teacher': 1937, 'nói_thẳng': 1560, 'wzjwzneutral8positive': 2664, 'nhiệt_tình_thực_tế': 1468, 'outdoor': 1604, 'quay_phim': 1738, 'dựng_phim': 615, 'bài_tập_hợp_lý': 90, 'cử_chỉ': 509, 'học_vấn_đề': 908, 'vấn_đề_bài_tập': 2510, 'mẫu_mực': 1305, 'nhà_giáo': 1476, 'thực_thụ': 2126, 'bàu': 98, 'rep': 1785, 'thứ_bảy': 2107, 'chủ_nhật': 328, 'thể_thức': 2090, 'positive3h59': 1706, 'pha_trò': 1615, 'nhịp_điệu': 1527, 'giảng_dạy_học_tập': 704, 'wzjwz110': 2557, 'cố_chấp': 490, 'làm_chủ_đề': 1137, 'wzjwz75': 2628, 'requirement': 1787, 'table': 1931, 'and': 40, 'chair': 200, 'is': 941, 'not': 1537, 'fitted': 632, 'for': 634, 'class': 342, 'môn_bài_tập': 1283, 'đồ': 2940, 'đè': 2843, 'bôi': 112, 'bơi': 117, 'bẩn': 150, 'tết': 2385, 'mô': 1276, 'vô_ích': 2494, 'dáng': 555, 'bấy_nhiêu': 148, 'bật': 153, 'bất_lợi': 144, 'lấn': 1183, 'thoả_đáng': 1982, 'số_phức': 1911, 'số_thực': 1912, 'tam_giác': 1934, 'kẹo_ngon': 1060, 'vô_tư': 2493, 'thì_giờ': 2024, '3positivenegativek': 12, 'tập_thể': 2376, 'tín_chỉ_thực_hành': 2319, 'viễn_thông': 2459, 'vệ_tinh': 2528, 'lĩnh': 1161, 'vựa': 2543, 'wzjwz280': 2587, 'chí_hướng': 260, 'cân_xứng': 397, 'giang': 661, 'thi_viết': 1963, 'chán_chường': 245, 'nghiền_ngẫm': 1383, 'thảm_họa': 2058, 'truyện': 2207, 'khiếm_khuyết': 951, 'thời_tiết': 2102, 'thể_thao': 2089, 'tron': 2192, 'thực_hành_động': 2120, 'khả_quan': 1006, 'phỏng_vấn': 1688, 'học_bổng': 892, 'chê_trách': 257, 'quyết_định': 1750, 'môn_học_đòi_hỏi': 1288, 'wzjwz268': 2584, 'tiền_bạc': 2163, 'luân': 1129, 'lê_thê': 1147, 'di_động_học': 527, 'thắng': 2075, 'fix': 633, 'rõ_rệt': 1805, 'mỗi_một': 1326, 'choáng_ngợp': 224, 'món': 1275, 'wzjwz68': 2624, 'wzjwz69': 2625, 'thành_phần': 2007, 'lisp': 1104, 'prolog': 1726, 'xu_thế': 2729, 'lạc_hậu': 1179, 'wzjwz3neutralnegative': 2605, 'khó_lòng': 984, 'wzjwzneutral49': 2647, 'wzjwz8positive': 2639, 'hoàn_tất': 814, 'wzjwz309': 2589, 'wzjwz3negative3': 2598, 'phế': 1686, 'lớn_lao': 1219, 'không_thể_hiện': 998, 'hưởng': 865, 'dreamweaver': 541, 'sát_thực_hành': 1883, 'thực_tế_hóa': 2131, 'rải': 1809, 'cột': 497, 'pattern': 1611, 'severside': 1833, 'giá_trị': 673, 'chế': 307, 'tín_hiệu': 2320, 'quy_củ': 1742, 'mát_mẻ': 1261, 'wzjwz38': 2595, 'đấy': 2881, 'mắng': 1309, 'vất_vả': 2511, 'cần_thiết_thực_sự': 479, 'cực_khổ': 514, 'trung_thực': 2196, 'ngay_thẳng': 1374, 'wzjwzpositive97': 2702, 'positivenegativenegative9': 1716, 'pos': 1704, 'pđt': 1727, 'vừ': 2534, 'vựng': 2544, 'chìa': 259, 'tranh_cãi': 2183, 'thân_mến': 2018, 'ngờ': 1437, 'kinh_khủng': 1024, 'thèm': 2021, 'wzjwzpositive9': 2699, 'rành_mạch': 1795, 'lập_lờ': 1189, 'mới_đây': 1340, 'wzjwzpositive5neutral': 2691, 'uống': 2446, 'bia': 64, 'thúc_đẩy': 2048, 'truyền_cảm_dạy': 2202, 'khởi_động': 1019, 'hả': 872, 'sát_sao': 1881, 'hù': 847, 'dọa': 600, 'trăm': 2230, 'hoàng': 815, 'phương_tiện': 1668, 'wzjwz3': 2588, 'thoạt_đầu': 1981, 'neutralpositiveh': 1372, 'neutralneutralh3negative': 1370, 'neutralh': 1366, 'cơm': 449, 'sửa_soạn': 1922, 'wzjwz148': 2564, 'ngỡ_ngàng': 1439, 'thỉnh_cầu': 2091, 'mê': 1272, 'side': 1837, 'wtf': 2556, 'wed': 2549, 'cạnh_tranh': 455, 'thuần_thục': 1995, 'design': 523, 'mỹ': 1352, 'rè': 1798, 'phương_pháp_giản': 1666, 'kẽ': 1062, 'như_ý': 1497, 'lặp_đi': 1199, 'cô_giáo_viên': 416, 'gương_mẫu': 744, 'trái_tim': 2212, 'over': 1606, 'time': 2132, 'hú': 848, 'ấn_định': 2986, 'gia_hạn': 656, 'hoàn_thành_công_việc': 812, 'chủ_đề_dẫn': 332, 'chập_chờn': 296, 'wzjwz55': 2617, 'phấn_khởi': 1678, 'náo_nhiệt': 1542, 'suôn': 1869, 'control': 364, 'wzjwz179': 2568, 'đẩy': 2890, 'kích_thước': 1055, 'phông': 1657, 'dư': 568, 'lặt_vặt': 1200, 'làm_khó': 1138, 'wzjwzneutral87': 2663, 'bố_trí': 167, 'sạch_sẽ': 1901, 'không_lưu_loát': 995, 'wzjwzneutral56': 2651, 'ấm_áp': 2984, 'khả_dụng': 1004, 'extensive': 626, 'reading': 1783, 'chậm_rãi': 294, 'bus': 77, 'thua': 1987, 'feed': 629, 'ráng': 1796, 'khỏe': 1014, 'ảo': 2983, 'ubuntu': 2437, 'thắm': 2074, 'sương': 1899, 'tủy': 2416, 'mặc_kệ': 1313, 'nhỉ': 1526, 'tối_ưu': 2395, 'học_sinh_hoạt_động': 899, 'cha': 199, 'khóc': 987, 'nha_chị': 1447, 'tiết_lộ': 2159, 'đệ': 2925, 'wzjwzneutral8': 2662, 'coloncolon': 349, 'đơn_giản_hóa': 2865, 'lơ': 1163, 'càu_nhàu': 386, 'gượng_ép': 745, 'dễ_dãi': 594, 'gb': 646, 'cpu': 369, 'lõi': 1153, '3dot0': 7, 'ghz': 652, 'cấp_tiến': 471, 'unikey': 2439, 'nhồi_nhét': 1529, 'khmtdotuitdotedudotvn': 954, 'wzjwz90': 2640, 'wzjwz91': 2641, 'phối_hợp': 1689, 'bỏ_cuộc': 165, 'sài': 1874, 'châu': 250, 'ước_tính': 2981, 'lộ_trình': 1216, 'wzjwzneutralpositivenegative': 2677, 'lao': 1091, 'hay_biết': 775, 'neutralneutralh55': 1371, 'cá_nhân_cách': 388, 'phủ_nhận': 1699, 'tới_chốn': 2412, 'đại_loại': 2873, 'một_số_thành_phần': 1331, 'công_dụng': 422, 'input': 939, 'output': 1605, 'có_thể_hình_dung': 411, 'lảng_tránh': 1182, 'thầy_giản': 2067, 'nghèo': 1388, 'thuế': 2000, 'wzjwz113': 2558, 'gấp': 748, 'free': 641, 'positivek3': 1710, 'khung': 962, 'wzjwz210': 2573, 'làm_bằng': 1135, 'wzjwz258': 2581, 'đoán': 2824, 'làm_nên': 1139, 'biểu_đồ': 71, 'bản_đồ': 129, 'chiến_dịch': 214, 'wzjwz261': 2582, 'tiếng_nói': 2148, 'khẩn': 1009, 'tuy_rằng': 2272, 'cute': 375, 'wzjwz234': 2577, 'cơ_hội_thao_tác': 446, 'chớ': 323, 'trí_nhớ': 2219, 'ưng_ý': 2977, 'tốt_tính': 2399, 'sách_vở': 1876, 'wzjwz6neutral': 2626, 'bai': 52, 'lợi_ích': 1227, 'quy_ước': 1747, 'itnegativenegative3dotepositiveneutral': 942, 'hiền_hậu': 785, 'wzjwzneutral68': 2656, 'wzjwz87': 2634, 'wzjwz88': 2635, 'wzjwz89': 2636, 'bắng': 154, 'nhúng_tay': 1490, 'tài_trợ': 2285, 'giải_thưởng': 696, 'hiển': 788, 'firmware': 631, 'router': 1791, 'bằng_cấp': 161, 'ielts': 937, 'để_phần': 2922, 'avneutral': 49, 'avpositive': 50, 'av3': 48, 'đề_cao': 2911, 'thực_nghiệm': 2122, 'yên': 2760, 'song_hành': 1854, 'khẳng_định': 1013, 'nhồi_sọ': 1530, 'wzjwz85': 2633, 'phà': 1630, 'chăm_chú': 279, 'dev': 524, '2013': 5, 'băm': 116, 'wzjwzneutralpositiveneutral': 2678, 'wzjwzneutralpositivepositive': 2679, 'omg': 1600, 'wzjwz35': 2592, 'wzjwz3neutral5': 2601, 'wzjwz3neutral6': 2602, 'thiện_cảm_thiếu': 1978, 'ha': 769, 'bằng_chứng': 160, 'silverlight': 1839, 'nhựa': 1534, 'vầ': 2512, 'bảo_quản_thiết_bị': 134, 'everything': 625, 'uy_lực': 2444, 'khí_chất': 976}\n"
     ]
    }
   ],
   "source": [
    "print(Tfidf_vect.vocabulary_)"
   ]
  },
  {
   "cell_type": "code",
   "execution_count": 12,
   "metadata": {},
   "outputs": [
    {
     "data": {
      "text/plain": [
       "MultinomialNB()"
      ]
     },
     "execution_count": 12,
     "metadata": {},
     "output_type": "execute_result"
    }
   ],
   "source": [
    "Naive = naive_bayes.MultinomialNB()\n",
    "Naive.fit(Train_X_Tfidf,Y_Train)"
   ]
  },
  {
   "cell_type": "code",
   "execution_count": 13,
   "metadata": {},
   "outputs": [
    {
     "data": {
      "image/png": "[encoded data removed]",
      "text/plain": [
       "<Figure size 432x288 with 1 Axes>"
      ]
     },
     "metadata": {},
     "output_type": "display_data"
    }
   ],
   "source": [
    "predictions_NB=Naive.predict(Test_X_Tfidf)\n",
    "fig, ax = plot_confusion_matrix(conf_mat=confusion_matrix(Y_test,predictions_NB))\n",
    "plt.show()"
   ]
  },
  {
   "cell_type": "code",
   "execution_count": 14,
   "metadata": {},
   "outputs": [
    {
     "name": "stdout",
     "output_type": "stream",
     "text": [
      "              precision    recall  f1-score   support\n",
      "\n",
      "           0       0.87      0.89      0.88      2232\n",
      "           1       0.88      0.86      0.87      2146\n",
      "\n",
      "    accuracy                           0.87      4378\n",
      "   macro avg       0.87      0.87      0.87      4378\n",
      "weighted avg       0.87      0.87      0.87      4378\n",
      "\n",
      "0.8716308816811329\n"
     ]
    }
   ],
   "source": [
    "print(classification_report(Y_test,predictions_NB))\n",
    "print(accuracy_score(Y_test,predictions_NB))\n"
   ]
  },
  {
   "cell_type": "code",
   "execution_count": 15,
   "metadata": {},
   "outputs": [],
   "source": [
    "#FOR TESTING\n",
    "\n",
    "def vi_tokenizer(row):\n",
    "    return ViTokenizer.tokenize(row)\n",
    "   \n",
    "\n",
    "def remove_stopwords(hl_split):\n",
    "    sent = [s for s in hl_split if s not in stopwords]\n",
    "    return sent\n",
    "      \n",
    "stopwords=set(open('stopwords.txt',encoding='utf-8').read().split(' ')[:-1])\n",
    "\n",
    "def text_cleasing1(row):\n",
    "    row = re.sub(r\"[\\.,\\?]+$-\", \"\", row)\n",
    "    row = row.replace(\",\", \" \").replace(\".\", \" \") \\\n",
    "      .replace(\";\", \" \").replace(\"“\", \" \") \\\n",
    "      .replace(\":\", \" \").replace(\"”\", \" \") \\\n",
    "      .replace('\"', \" \").replace(\"'\", \" \") \\\n",
    "      .replace(\"!\", \" \").replace(\"?\", \" \") \\\n",
    "      .replace(\"-\", \" \").replace(\"?\", \" \")\n",
    "    row = row.strip()\n",
    "    row=vi_tokenizer(row)\n",
    "    row=remove_stopwords(row.split())\n",
    "    return row\n",
    " \n",
    "\n",
    "def predict(text):\n",
    "    token=text_cleasing1(text)\n",
    "    token=[' '.join(token)]\n",
    "    Tfidf_vect1 = TfidfVectorizer(max_features=100)\n",
    "    Tfidf_vect1.fit(X_Train)\n",
    "    Test_X_Tfidf1 = Tfidf_vect.transform(token)\n",
    "    Test_X_Tfidf1\n",
    "    predictions_NB2=Naive.predict(Test_X_Tfidf1)\n",
    "    if predictions_NB2[0] == 0:\n",
    "        print(\"=============> Negative\\n\")\n",
    "    elif predictions_NB2[0] == 1 :\n",
    "        print(\"=============> Positive\\n\")\n",
    "        \n",
    "        \n",
    "\n",
    "\n",
    "   \n"
   ]
  },
  {
   "cell_type": "code",
   "execution_count": 26,
   "metadata": {},
   "outputs": [
    {
     "name": "stdout",
     "output_type": "stream",
     "text": [
      "Nhập content: \n",
      "thầy dạy chán\n",
      "=============> Negative\n",
      "\n"
     ]
    }
   ],
   "source": [
    "print('Nhập content: ')\n",
    "cmt=input()\n",
    "\n",
    "predict(cmt)"
   ]
  },
  {
   "cell_type": "code",
   "execution_count": null,
   "metadata": {},
   "outputs": [],
   "source": []
  },
  {
   "cell_type": "code",
   "execution_count": null,
   "metadata": {},
   "outputs": [],
   "source": []
  }
 ],
 "metadata": {
  "kernelspec": {
   "display_name": "Python 3",
   "language": "python",
   "name": "python3"
  },
  "language_info": {
   "codemirror_mode": {
    "name": "ipython",
    "version": 3
   },
   "file_extension": ".py",
   "mimetype": "text/x-python",
   "name": "python",
   "nbconvert_exporter": "python",
   "pygments_lexer": "ipython3",
   "version": "3.8.5"
  }
 },
 "nbformat": 4,
 "nbformat_minor": 4
}
